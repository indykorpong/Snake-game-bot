{
 "cells": [
  {
   "cell_type": "code",
   "execution_count": 1,
   "metadata": {},
   "outputs": [],
   "source": [
    "import cv2\n",
    "import time\n",
    "import math\n",
    "import asyncio\n",
    "import pyautogui\n",
    "import numpy as np\n",
    "\n",
    "from enum import Enum"
   ]
  },
  {
   "cell_type": "code",
   "execution_count": 2,
   "metadata": {},
   "outputs": [],
   "source": [
    "class Direction(Enum):\n",
    "    TOP = 1\n",
    "    LEFT = 2\n",
    "    BOTTOM = 3\n",
    "    RIGHT = 4"
   ]
  },
  {
   "cell_type": "code",
   "execution_count": 11,
   "metadata": {},
   "outputs": [],
   "source": [
    "async def control_snake(directions, snake_speed, snake_turn_speed):\n",
    "    init_direction = Direction.RIGHT    \n",
    "    current_direction = init_direction\n",
    "    \n",
    "    for i, direction in enumerate(directions):\n",
    "        if(not direction is None):\n",
    "            if(direction == Direction.TOP):\n",
    "                # press up arrow\n",
    "                pyautogui.press('up')\n",
    "                print('up')\n",
    "            if(direction == Direction.LEFT):\n",
    "                # press left arrow\n",
    "                pyautogui.press('left')\n",
    "                print('left')\n",
    "            if(direction == Direction.BOTTOM):\n",
    "                # press down arrow\n",
    "                pyautogui.press('down')\n",
    "                print('down')\n",
    "            if(direction == Direction.RIGHT):\n",
    "                # press right arrow\n",
    "                pyautogui.press('right')\n",
    "                print('right')\n",
    "                \n",
    "            if(current_direction == direction):\n",
    "                await asyncio.sleep(snake_speed)\n",
    "            else:\n",
    "                await asyncio.sleep(snake_turn_speed)\n",
    "                \n",
    "            current_direction = direction"
   ]
  },
  {
   "cell_type": "code",
   "execution_count": 13,
   "metadata": {},
   "outputs": [],
   "source": [
    "directions = [\n",
    "    Direction.RIGHT, Direction.RIGHT, Direction.RIGHT, Direction.RIGHT, Direction.RIGHT, \n",
    "    Direction.TOP, Direction.TOP, Direction.TOP, \n",
    "    Direction.LEFT, Direction.LEFT, \n",
    "    Direction.TOP, Direction.TOP, \n",
    "    Direction.RIGHT, \n",
    "    Direction.TOP, \n",
    "    Direction.RIGHT, \n",
    "    Direction.TOP, \n",
    "]\n",
    "\n",
    "snake_speed = 0.1713\n",
    "snake_turn_speed = 0.1712"
   ]
  },
  {
   "cell_type": "code",
   "execution_count": 8,
   "metadata": {},
   "outputs": [],
   "source": [
    "def countdown():\n",
    "    time.sleep(1)\n",
    "    print('3')\n",
    "    time.sleep(1)\n",
    "    print('2')\n",
    "    time.sleep(1)\n",
    "    print('1')"
   ]
  },
  {
   "cell_type": "code",
   "execution_count": 12,
   "metadata": {},
   "outputs": [
    {
     "name": "stdout",
     "output_type": "stream",
     "text": [
      "3\n",
      "2\n",
      "1\n",
      "right\n",
      "0.1713\n",
      "right\n",
      "0.1713\n",
      "right\n",
      "0.1713\n",
      "right\n",
      "0.1713\n",
      "right\n",
      "0.1713\n",
      "up\n",
      "0.1714\n",
      "up\n",
      "0.1713\n",
      "up\n",
      "0.1713\n",
      "left\n",
      "0.1714\n",
      "left\n",
      "0.1713\n",
      "up\n",
      "0.1714\n",
      "up\n",
      "0.1713\n",
      "right\n",
      "0.1714\n",
      "up\n",
      "0.1714\n",
      "right\n",
      "0.1714\n",
      "up\n",
      "0.1714\n"
     ]
    }
   ],
   "source": [
    "countdown()\n",
    "await control_snake(directions, snake_speed, snake_turn_speed)"
   ]
  }
 ],
 "metadata": {
  "kernelspec": {
   "display_name": "Python 3",
   "language": "python",
   "name": "python3"
  },
  "language_info": {
   "codemirror_mode": {
    "name": "ipython",
    "version": 3
   },
   "file_extension": ".py",
   "mimetype": "text/x-python",
   "name": "python",
   "nbconvert_exporter": "python",
   "pygments_lexer": "ipython3",
   "version": "3.7.9"
  }
 },
 "nbformat": 4,
 "nbformat_minor": 4
}
