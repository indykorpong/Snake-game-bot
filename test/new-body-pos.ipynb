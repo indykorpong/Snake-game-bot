{
 "cells": [
  {
   "cell_type": "code",
   "execution_count": 1,
   "metadata": {},
   "outputs": [],
   "source": [
    "import numpy as np"
   ]
  },
  {
   "cell_type": "code",
   "execution_count": 15,
   "metadata": {},
   "outputs": [],
   "source": [
    "%run Pathfinding.ipynb\n",
    "%run Capture-screen.ipynb"
   ]
  },
  {
   "cell_type": "code",
   "execution_count": 4,
   "metadata": {},
   "outputs": [],
   "source": [
    "cells = [\n",
    "    [0,0,0,0,0,0,0,0],\n",
    "    [0,2,2,0,0,0,0,0],\n",
    "    [0,2,0,0,0,0,0,0],\n",
    "    [0,2,0,0,0,0,0,0],\n",
    "    [0,2,3,-1,-1,-1,0,0],\n",
    "    [0,0,0,0,0,-1,0,0],\n",
    "    [0,0,0,0,0,1,0,0],\n",
    "    [0,0,0,0,0,0,0,0]\n",
    "]\n",
    "\n",
    "cells = np.array(cells)"
   ]
  },
  {
   "cell_type": "code",
   "execution_count": 17,
   "metadata": {},
   "outputs": [],
   "source": [
    "path = [Position(4,2), Position(4,3), Position(4,4), Position(4,5), Position(5,5), Position(6,5)]\n",
    "apple_pos = Position(6,5)\n",
    "head_pos = Position(4,2)\n",
    "snake_pos = [Position(4,2), Position(4,1), Position(3,1), Position(2,1), Position(1,1), Position(1,2)]"
   ]
  },
  {
   "cell_type": "code",
   "execution_count": 20,
   "metadata": {},
   "outputs": [],
   "source": [
    "# new_body_pos = []\n",
    "# extended = False\n",
    "# if(len(path[1:]) >= len(body_pos)+1):\n",
    "#     length = len(body_pos) + 1\n",
    "# else:\n",
    "#     length = len(path[1:])\n",
    "#     ext_length = len(body_pos) + 1 - len(path[1:])\n",
    "#     extended = True\n",
    "    \n",
    "# for i in range(-1,-length-1,-1):\n",
    "#     new_body_pos.append(path[i])\n",
    "# if(extended):\n",
    "#     for i in range(ext_length):\n",
    "#         new_body_pos.append(body_pos[i])\n",
    "        \n",
    "# new_cells = np.zeros((8,8), dtype=np.int8)\n",
    "# for pos in new_body_pos:\n",
    "#     new_cells[pos.y, pos.x] = 2\n",
    "# new_cells[apple_pos.y, apple_pos.x] = 3"
   ]
  },
  {
   "cell_type": "code",
   "execution_count": 21,
   "metadata": {},
   "outputs": [],
   "source": [
    "new_cells, new_snake_pos, new_head_pos = replace_snake_body(path, snake_pos, apple_pos)"
   ]
  },
  {
   "cell_type": "code",
   "execution_count": 22,
   "metadata": {},
   "outputs": [
    {
     "name": "stdout",
     "output_type": "stream",
     "text": [
      "[[0 0 0 0 0 0 0 0 0 0 0 0 0 0 0 0 0]\n",
      " [0 0 0 0 0 0 0 0 0 0 0 0 0 0 0 0 0]\n",
      " [0 0 0 0 0 0 0 0 0 0 0 0 0 0 0 0 0]\n",
      " [0 0 0 0 0 0 0 0 0 0 0 0 0 0 0 0 0]\n",
      " [0 2 2 2 2 2 0 0 0 0 0 0 0 0 0 0 0]\n",
      " [0 0 0 0 0 2 0 0 0 0 0 0 0 0 0 0 0]\n",
      " [0 0 0 0 0 3 0 0 0 0 0 0 0 0 0 0 0]\n",
      " [0 0 0 0 0 0 0 0 0 0 0 0 0 0 0 0 0]\n",
      " [0 0 0 0 0 0 0 0 0 0 0 0 0 0 0 0 0]\n",
      " [0 0 0 0 0 0 0 0 0 0 0 0 0 0 0 0 0]\n",
      " [0 0 0 0 0 0 0 0 0 0 0 0 0 0 0 0 0]\n",
      " [0 0 0 0 0 0 0 0 0 0 0 0 0 0 0 0 0]\n",
      " [0 0 0 0 0 0 0 0 0 0 0 0 0 0 0 0 0]\n",
      " [0 0 0 0 0 0 0 0 0 0 0 0 0 0 0 0 0]\n",
      " [0 0 0 0 0 0 0 0 0 0 0 0 0 0 0 0 0]]\n"
     ]
    }
   ],
   "source": [
    "print(new_cells)"
   ]
  },
  {
   "cell_type": "code",
   "execution_count": null,
   "metadata": {},
   "outputs": [],
   "source": []
  }
 ],
 "metadata": {
  "kernelspec": {
   "display_name": "Python 3",
   "language": "python",
   "name": "python3"
  },
  "language_info": {
   "codemirror_mode": {
    "name": "ipython",
    "version": 3
   },
   "file_extension": ".py",
   "mimetype": "text/x-python",
   "name": "python",
   "nbconvert_exporter": "python",
   "pygments_lexer": "ipython3",
   "version": "3.7.9"
  }
 },
 "nbformat": 4,
 "nbformat_minor": 4
}
