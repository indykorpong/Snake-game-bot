{
 "cells": [
  {
   "cell_type": "code",
   "execution_count": 1,
   "metadata": {},
   "outputs": [],
   "source": [
    "import numpy as np\n",
    "import matplotlib.pyplot as plt\n",
    "\n",
    "import cv2\n",
    "import os\n",
    "import time\n",
    "import pyautogui\n",
    "import math\n",
    "\n",
    "from enum import Enum"
   ]
  },
  {
   "cell_type": "markdown",
   "metadata": {},
   "source": [
    "# Custom Classes"
   ]
  },
  {
   "cell_type": "code",
   "execution_count": 10,
   "metadata": {},
   "outputs": [],
   "source": [
    "class Position:\n",
    "    def __init__(self, y, x):\n",
    "        self.y = y\n",
    "        self.x = x\n",
    "        \n",
    "    def __eq__(self, other):\n",
    "        return self.x == other.x and self.y == other.y\n",
    "    \n",
    "    def __lt__(self, other):\n",
    "        if(self.y < other.y):\n",
    "            return True\n",
    "        else:\n",
    "            if(self.x < other.x):\n",
    "                return True\n",
    "            else:\n",
    "                return False\n",
    "    \n",
    "    def __str__(self):\n",
    "        return f\"({self.x},{self.y})\"\n",
    "    \n",
    "    def __hash__(self):\n",
    "        return hash((self.x, self.y))"
   ]
  },
  {
   "cell_type": "code",
   "execution_count": 35,
   "metadata": {},
   "outputs": [],
   "source": [
    "class Label(Enum):\n",
    "    BG = 0\n",
    "    APPL = 1\n",
    "    BODY = 2\n",
    "    HEAD = 3\n",
    "    \n",
    "n_label = len(list(Label))\n",
    "label_str = [name for name, member in Label.__members__.items()]\n",
    "\n",
    "nrows = 15\n",
    "ncols = 17"
   ]
  },
  {
   "cell_type": "markdown",
   "metadata": {},
   "source": [
    "# Methods"
   ]
  },
  {
   "cell_type": "markdown",
   "metadata": {},
   "source": [
    "## Image"
   ]
  },
  {
   "cell_type": "code",
   "execution_count": 2,
   "metadata": {},
   "outputs": [],
   "source": [
    "def open_img(img_path):\n",
    "    img = cv2.imread(img_path)\n",
    "    \n",
    "    (left, upper, right, lower) = (607, 302, 1295, 910)\n",
    "    img_cropped = img[upper:lower, left:right]\n",
    "    \n",
    "    return img_cropped"
   ]
  },
  {
   "cell_type": "code",
   "execution_count": 3,
   "metadata": {},
   "outputs": [],
   "source": [
    "def crop_img(img):\n",
    "    (upper_t, lower_t, left_t, right_t) = (9, 31, 9, 31)\n",
    "    img_crp = img[upper_t:lower_t, left_t:right_t]\n",
    "    \n",
    "    return img_crp"
   ]
  },
  {
   "cell_type": "code",
   "execution_count": 4,
   "metadata": {},
   "outputs": [],
   "source": [
    "def show_img(img):\n",
    "    cv2.imshow('windows',img)\n",
    "    cv2.waitKey(0)\n",
    "    cv2.destroyAllWindows()"
   ]
  },
  {
   "cell_type": "markdown",
   "metadata": {},
   "source": [
    "## Histogram"
   ]
  },
  {
   "cell_type": "code",
   "execution_count": 5,
   "metadata": {},
   "outputs": [],
   "source": [
    "def calc_hist(img):\n",
    "    chans = cv2.split(img)\n",
    "    colors = (\"b\", \"g\", \"r\")\n",
    "    \n",
    "    hist_arr = []\n",
    "    \n",
    "    # loop over the image channels\n",
    "    for (chan, color) in zip(chans, colors):        \n",
    "        hist = cv2.calcHist([chan], [0], None, [128], [0, 256])\n",
    "        norm_hist = cv2.normalize(hist, None, alpha=0, beta=1, norm_type=cv2.NORM_MINMAX, dtype=cv2.CV_32F)\n",
    "        hist_arr.append(norm_hist)\n",
    "    \n",
    "    return hist_arr"
   ]
  },
  {
   "cell_type": "code",
   "execution_count": 6,
   "metadata": {},
   "outputs": [],
   "source": [
    "def calc_all_hist():\n",
    "    hist_all_label = []\n",
    "    img_all_label = []\n",
    "    \n",
    "    labeled_folder_path = \"../img_gallery\"\n",
    "    \n",
    "    for _label in list(Label):\n",
    "        label = _label.value\n",
    "        labeled_path = f\"{labeled_folder_path}/{label}/\"\n",
    "\n",
    "        hist_label = []        \n",
    "        img_label = []\n",
    "        for filename in os.listdir(labeled_path):\n",
    "            img = cv2.imread(labeled_path + filename)\n",
    "            img_crp = crop_img(img)\n",
    "            \n",
    "            hist_img = calc_hist(img_crp)\n",
    "            hist_label.append(hist_img)\n",
    "            img_label.append(img_crp)\n",
    "        hist_all_label.append(hist_label)\n",
    "        img_all_label.append(img_label)\n",
    "        \n",
    "    return hist_all_label, img_all_label"
   ]
  },
  {
   "cell_type": "markdown",
   "metadata": {},
   "source": [
    "## Image processing"
   ]
  },
  {
   "cell_type": "code",
   "execution_count": 37,
   "metadata": {},
   "outputs": [],
   "source": [
    "def preprocessing(img):\n",
    "    bg_path = \"../img_raw/bg.png\"\n",
    "    bg = open_img(bg_path)\n",
    "    \n",
    "    # background subtraction\n",
    "    img_sub = cv2.subtract(img, bg)\n",
    "    \n",
    "    # masking the image with the background\n",
    "    img_gray = cv2.cvtColor(img_sub, cv2.COLOR_BGR2GRAY)\n",
    "    ret,thresh1 = cv2.threshold(img_gray,5,255,cv2.THRESH_BINARY)\n",
    "\n",
    "    kernel = np.ones((3,3),np.uint8)\n",
    "    erosion = cv2.erode(thresh1,kernel,iterations = 2)\n",
    "    dilation = cv2.dilate(erosion,kernel,iterations = 2)\n",
    "    \n",
    "    img_masked = cv2.bitwise_and(img, img, mask=dilation)\n",
    "    \n",
    "    return img_masked"
   ]
  },
  {
   "cell_type": "code",
   "execution_count": 8,
   "metadata": {},
   "outputs": [],
   "source": [
    "def normalize_img_size(img):\n",
    "    nrows = 15\n",
    "    ncols = 17\n",
    "    img_tiles = []\n",
    "\n",
    "    size = 40\n",
    "    w_start = 0\n",
    "    h_start = 0\n",
    "\n",
    "    y_start = h_start\n",
    "    \n",
    "    # normalize image size to 40*40\n",
    "    for i in range(nrows):\n",
    "        if(i%2==0):\n",
    "            y_end = y_start + size\n",
    "        elif(i%2==1):\n",
    "            y_end = y_start + (size+1)\n",
    "\n",
    "        img_row = []\n",
    "        x_start = w_start\n",
    "        for j in range(ncols):\n",
    "            if(j%2==0):\n",
    "                x_end = x_start + (size+1)\n",
    "            elif(j%2==1):\n",
    "                x_end = x_start + size\n",
    "            \n",
    "            img_i = img[y_start:y_start+size, x_start:x_start+size]\n",
    "            \n",
    "            # crop image for prediction (use only pixels in the middle)\n",
    "            img_i_crp = crop_img(img_i)\n",
    "            img_row.append(img_i_crp)\n",
    "            \n",
    "            x_start = x_end\n",
    "            \n",
    "        img_tiles.append(img_row)\n",
    "        y_start = y_end\n",
    "    \n",
    "    return img_tiles"
   ]
  },
  {
   "cell_type": "code",
   "execution_count": 9,
   "metadata": {},
   "outputs": [],
   "source": [
    "def predict_img_label(img, hist_all_label, threshold):\n",
    "    hist_img = calc_hist(img)\n",
    "    \n",
    "    threshold_bg = 0.9\n",
    "    threshold_0 = threshold\n",
    "    \n",
    "    matched_label_no = -1\n",
    "    matched_hist_no = -1\n",
    "    max_coeff = -1\n",
    "    \n",
    "    for label_no in range(n_label):\n",
    "        for hist_no in range(len(hist_all_label[label_no])):\n",
    "            sum_diff = 0\n",
    "            diffs = [-1, -1, -1]\n",
    "            for chan in range(3):\n",
    "                diffs[chan] = cv2.compareHist(hist_img[chan], hist_all_label[label_no][hist_no][chan], cv2.HISTCMP_CORREL)\n",
    "                sum_diff += diffs[chan]\n",
    "\n",
    "            avg_diff = sum_diff/3\n",
    "            reach_threshold = False\n",
    "\n",
    "            threshold_0 = threshold_bg if(label_no == Label.BG.value) else threshold\n",
    "                \n",
    "            if(avg_diff > threshold_0):\n",
    "                reach_threshold = True\n",
    "                for k in range(3):\n",
    "                    if(diffs[k]<threshold_0):\n",
    "                        reach_threshold = False\n",
    "\n",
    "            if(reach_threshold):\n",
    "                if(avg_diff>max_coeff):\n",
    "                    max_coeff = avg_diff\n",
    "                    matched_label_no = label_no\n",
    "                    matched_hist_no = hist_no\n",
    "    \n",
    "    if(max_coeff!=-1):\n",
    "        return matched_label_no, matched_hist_no, max_coeff\n",
    "    \n",
    "    return 0, -1, 0"
   ]
  },
  {
   "cell_type": "markdown",
   "metadata": {},
   "source": [
    "## A-star"
   ]
  },
  {
   "cell_type": "code",
   "execution_count": 11,
   "metadata": {},
   "outputs": [],
   "source": [
    "def food_position(cells, nrows, ncols):\n",
    "    for i in range(nrows):\n",
    "        for j in range(ncols):\n",
    "            if(cells[i,j]==Label.APPL.value):\n",
    "                return Position(i,j)\n",
    "            \n",
    "    return None"
   ]
  },
  {
   "cell_type": "code",
   "execution_count": 12,
   "metadata": {},
   "outputs": [],
   "source": [
    "def center_of_mass(cells, nrows, ncols):\n",
    "    cm_x = 0\n",
    "    cm_y = 0\n",
    "    N = 0\n",
    "    for i in range(nrows):\n",
    "        for j in range(ncols):\n",
    "            if(cells[i,j]==Label.BODY.value):\n",
    "                cm_x += j\n",
    "                cm_y += i\n",
    "                N += 1\n",
    "    \n",
    "    cm_x /= N\n",
    "    cm_y /= N\n",
    "    \n",
    "    return Position(cm_y, cm_x)"
   ]
  },
  {
   "cell_type": "code",
   "execution_count": 13,
   "metadata": {},
   "outputs": [],
   "source": [
    "def center_of_mass_new(cells, nrows, ncols):\n",
    "    cm_x = 0\n",
    "    cm_y = 0\n",
    "    \n",
    "    # get all snake body coordinates and get a sample every K tile\n",
    "    count = 0\n",
    "    snake_body_samples = []\n",
    "    for i in range(nrows):\n",
    "        for j in range(ncols):\n",
    "            if(cells[i,j] == Label.BODY.value):\n",
    "                count += 1\n",
    "                if(count-1 == 4):\n",
    "                    snake_body_samples.append(Position(i,j))\n",
    "                    count = 0\n",
    "    for pos in snake_body_samples:\n",
    "        cm_x += pos.x\n",
    "        cm_y += pos.y\n",
    "        \n",
    "    N = len(snake_body_samples)\n",
    "    if(N==0):\n",
    "        return None\n",
    "    \n",
    "    cm_x /= N\n",
    "    cm_y /= N\n",
    "    \n",
    "    return Position(cm_y, cm_x)"
   ]
  },
  {
   "cell_type": "code",
   "execution_count": 14,
   "metadata": {},
   "outputs": [],
   "source": [
    "def find_min_max_body_pos(cells, nrows, ncols, get_min):\n",
    "    max_coord = Position(-1, -1)\n",
    "    \n",
    "    pos_x = -1\n",
    "    pos_y = -1\n",
    "    \n",
    "    first_body_cell = True\n",
    "    # get all snake body coordinates and find min/max body coordinates\n",
    "    for i in range(nrows):\n",
    "        for j in range(ncols):\n",
    "            if(cells[i,j]==Label.BODY.value):\n",
    "                pos_x = j\n",
    "                pos_y = i\n",
    "                if(first_body_cell):\n",
    "                    min_coord = Position(i,j)\n",
    "                    first_body_cell = False\n",
    "                else:\n",
    "                    if(pos_y > max_coord.y):\n",
    "                        max_coord = Position(pos_y, pos_x)\n",
    "                    elif(pos_y == max_coord.y):\n",
    "                        if(pos_x > max_coord.x):\n",
    "                            max_coord = Position(pos_y, pos_x)\n",
    "                \n",
    "    if(get_min):\n",
    "        return min_coord\n",
    "    else:\n",
    "        return max_coord"
   ]
  },
  {
   "cell_type": "markdown",
   "metadata": {},
   "source": [
    "## Predict labels"
   ]
  },
  {
   "cell_type": "code",
   "execution_count": 1,
   "metadata": {
    "scrolled": true
   },
   "outputs": [],
   "source": [
    "def get_cells(img, Label, threshold):    \n",
    "    img_p = preprocessing(img)\n",
    "    img_tiles = normalize_img_size(img_p)\n",
    "\n",
    "    hist_all_label, _ = calc_all_hist()\n",
    "\n",
    "    cells = np.zeros((nrows, ncols), dtype=np.int8)\n",
    "    head_coeffs = []\n",
    "    head_positions = []\n",
    "    apple_pos = None\n",
    "\n",
    "    for i in range(nrows):\n",
    "        for j in range(ncols):\n",
    "            cells[i,j], img_no, cell_coeff = predict_img_label(img_tiles[i][j], hist_all_label, threshold)\n",
    "            if(cells[i,j]==Label.HEAD.value):\n",
    "                head_coeffs.append(cell_coeff)\n",
    "                head_positions.append(Position(i,j))\n",
    "            if(cells[i,j]==Label.APPL.value):\n",
    "                apple_pos = Position(i,j)\n",
    "    \n",
    "    head_pos = None\n",
    "    max_head_coeff = -1\n",
    "    for i,coeff in enumerate(head_coeffs):\n",
    "        if(coeff>max_head_coeff):\n",
    "            max_head_coeff = coeff\n",
    "            head_pos = head_positions[i]\n",
    "\n",
    "    for pos in head_positions:\n",
    "        if(pos!=head_pos):\n",
    "            cells[pos.y, pos.x] = Label.BODY.value\n",
    "\n",
    "    return cells, head_pos, apple_pos"
   ]
  },
  {
   "cell_type": "markdown",
   "metadata": {},
   "source": [
    "## Pathfinding"
   ]
  },
  {
   "cell_type": "code",
   "execution_count": 1,
   "metadata": {
    "scrolled": true
   },
   "outputs": [],
   "source": [
    "def find_optimal_path(cells, head_pos, apple_pos, cm_pos_list, weights):\n",
    "    start_pos = Position(head_pos.y, head_pos.x)\n",
    "    \n",
    "    if(apple_pos is None):\n",
    "        return None, None\n",
    "    \n",
    "    new_cells = np.zeros((nrows, ncols), dtype=np.int8)\n",
    "    for i in range(nrows):\n",
    "        for j in range(ncols):\n",
    "            new_cells[i,j] = cells[i,j]\n",
    "\n",
    "    path = astar(new_cells, start_pos, apple_pos, cm_pos_list, weights)\n",
    "\n",
    "    for pos in path:\n",
    "        if(new_cells[pos.y, pos.x]==Label.BG.value):\n",
    "            new_cells[pos.y, pos.x] = -1\n",
    "\n",
    "    return new_cells, path"
   ]
  },
  {
   "cell_type": "markdown",
   "metadata": {},
   "source": [
    "# Executions"
   ]
  },
  {
   "cell_type": "code",
   "execution_count": 21,
   "metadata": {},
   "outputs": [
    {
     "name": "stdout",
     "output_type": "stream",
     "text": [
      "['BG', 'APPL', 'BODY', 'HEAD']\n"
     ]
    }
   ],
   "source": [
    "# print(label_str)"
   ]
  }
 ],
 "metadata": {
  "kernelspec": {
   "display_name": "Python 3",
   "language": "python",
   "name": "python3"
  },
  "language_info": {
   "codemirror_mode": {
    "name": "ipython",
    "version": 3
   },
   "file_extension": ".py",
   "mimetype": "text/x-python",
   "name": "python",
   "nbconvert_exporter": "python",
   "pygments_lexer": "ipython3",
   "version": "3.7.9"
  }
 },
 "nbformat": 4,
 "nbformat_minor": 4
}
