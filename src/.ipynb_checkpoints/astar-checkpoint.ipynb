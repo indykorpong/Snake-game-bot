{
 "cells": [
  {
   "cell_type": "code",
   "execution_count": 2,
   "metadata": {},
   "outputs": [],
   "source": [
    "from queue import PriorityQueue\n",
    "from enum import Enum\n",
    "\n",
    "%run ../src/ipython_exit.py"
   ]
  },
  {
   "cell_type": "code",
   "execution_count": 3,
   "metadata": {},
   "outputs": [],
   "source": [
    "def neighbors(cells, pos):\n",
    "    neighbor_positions = []\n",
    "    offsets = [(-1,0),(1,0),(0,-1),(0,1)]\n",
    "    for (i,j) in offsets:\n",
    "            if(pos.y+j>=0 and pos.x+i>=0 and\n",
    "                pos.y+j<nrows and pos.x+i<ncols):\n",
    "                if(cells[pos.y+j,pos.x+i]!=Label.BODY.value and cells[pos.y+j,pos.x+i]!=Label.HEAD.value):\n",
    "                    neighbor_positions.append(Position(pos.y+j,pos.x+i))\n",
    "                \n",
    "    return neighbor_positions"
   ]
  },
  {
   "cell_type": "code",
   "execution_count": 4,
   "metadata": {},
   "outputs": [],
   "source": [
    "def manhattan_dist(pos1, pos2):\n",
    "    return abs(pos1.x - pos2.x) + abs(pos1.y - pos2.y)"
   ]
  },
  {
   "cell_type": "code",
   "execution_count": 5,
   "metadata": {},
   "outputs": [],
   "source": [
    "def heuristic(pos, other_pos, weights):\n",
    "    _heuristic = 0\n",
    "    N = len(weights)\n",
    "    for i in range(N):\n",
    "        _heuristic += weights[i] * manhattan_dist(pos, other_pos[i])\n",
    "    return _heuristic"
   ]
  },
  {
   "cell_type": "code",
   "execution_count": 6,
   "metadata": {},
   "outputs": [],
   "source": [
    "def reconstruct_path(node_dict, start_pos, goal_pos, PARENT_POS):\n",
    "    current = goal_pos\n",
    "    path = []\n",
    "    while(current!=start_pos):\n",
    "        try:\n",
    "            path.append(current)\n",
    "            current = node_dict[current][PARENT_POS]\n",
    "        except KeyError:\n",
    "            print(f\"KeyError at position {(current.y, current.x)}\")\n",
    "            exit()\n",
    "    path.append(start_pos)\n",
    "    path.reverse()\n",
    "    \n",
    "    return path"
   ]
  },
  {
   "cell_type": "code",
   "execution_count": 7,
   "metadata": {},
   "outputs": [],
   "source": [
    "# node = [f_cost, g_cost, node_pos, parent_node_pos, open, closed]\n",
    "\n",
    "def astar(cells, start_pos, goal_pos, cm_pos_list, weights):\n",
    "    F, G, POS, PARENT_POS, OPEN, CLOSED = range(6)\n",
    "    start_cost = 0\n",
    "    \n",
    "    open_pq = PriorityQueue()\n",
    "    \n",
    "    start_node = [start_cost, start_cost, start_pos, None, True, False]\n",
    "    \n",
    "    open_pq.put(start_node)\n",
    "    node_dict = {start_pos: start_node}\n",
    "    \n",
    "    while(not open_pq.empty()):\n",
    "        current_node = open_pq.get()\n",
    "        current_node[OPEN] = False\n",
    "        current_node[CLOSED] = True\n",
    "        \n",
    "        if(current_node[POS]==goal_pos):\n",
    "            node_dict[goal_pos] = current_node\n",
    "            break\n",
    "        \n",
    "        for neighbor_pos in neighbors(cells, current_node[POS]):\n",
    "            g_cost = manhattan_dist(neighbor_pos, start_pos)\n",
    "            \n",
    "            other_pos = [goal_pos] + cm_pos_list\n",
    "            h_cost = heuristic(neighbor_pos, other_pos, weights)\n",
    "            f_cost = g_cost + h_cost\n",
    "            \n",
    "            if(not neighbor_pos in node_dict):\n",
    "                neighbor_node = [f_cost, g_cost, neighbor_pos, current_node[POS], False, False]\n",
    "                node_dict[neighbor_pos] = neighbor_node\n",
    "            else:\n",
    "                neighbor_node = node_dict[neighbor_pos]\n",
    "            \n",
    "            if(cells[neighbor_pos.y,neighbor_pos.x]!=Label.BG.value or neighbor_node[CLOSED]):\n",
    "                continue\n",
    "            \n",
    "            if(g_cost < neighbor_node[G] or not neighbor_node[OPEN]):\n",
    "                neighbor_node[F] = f_cost\n",
    "                neighbor_node[PARENT_POS] = current_node[POS]\n",
    "                if(not neighbor_node[OPEN]):\n",
    "                    open_pq.put(neighbor_node)\n",
    "                    neighbor_node[OPEN] = True\n",
    "    \n",
    "    \n",
    "    path = reconstruct_path(node_dict, start_pos, goal_pos, PARENT_POS)\n",
    "    return path"
   ]
  }
 ],
 "metadata": {
  "kernelspec": {
   "display_name": "Python 3",
   "language": "python",
   "name": "python3"
  },
  "language_info": {
   "codemirror_mode": {
    "name": "ipython",
    "version": 3
   },
   "file_extension": ".py",
   "mimetype": "text/x-python",
   "name": "python",
   "nbconvert_exporter": "python",
   "pygments_lexer": "ipython3",
   "version": "3.7.9"
  }
 },
 "nbformat": 4,
 "nbformat_minor": 4
}
