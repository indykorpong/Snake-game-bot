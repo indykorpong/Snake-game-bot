{
 "cells": [
  {
   "cell_type": "code",
   "execution_count": 7,
   "metadata": {},
   "outputs": [],
   "source": [
    "from concurrent.futures import ThreadPoolExecutor\n",
    "import time"
   ]
  },
  {
   "cell_type": "code",
   "execution_count": 9,
   "metadata": {},
   "outputs": [],
   "source": [
    "def capture_func():\n",
    "    start_time = time.perf_counter()\n",
    "    \n",
    "    time.sleep(1)\n",
    "    result = 2\n",
    "    \n",
    "    print(\"Finished capturing\")\n",
    "    duration = time.perf_counter() - start_time\n",
    "    \n",
    "    return result, duration"
   ]
  },
  {
   "cell_type": "code",
   "execution_count": 10,
   "metadata": {},
   "outputs": [],
   "source": [
    "def callback_func(future):\n",
    "    print(f\"Future result: {future.result()[0]}\")\n",
    "    time.sleep(5)\n",
    "    print(\"End of callback func\")"
   ]
  },
  {
   "cell_type": "code",
   "execution_count": 13,
   "metadata": {},
   "outputs": [
    {
     "name": "stdout",
     "output_type": "stream",
     "text": [
      "Finished capturing\n",
      "Future result: 2\n",
      "done sleeping\n",
      "End of callback func\n"
     ]
    }
   ],
   "source": [
    "with ThreadPoolExecutor() as executor:\n",
    "    future = executor.submit(capture_func)\n",
    "    future.add_done_callback(callback_func)\n",
    "    \n",
    "    while(True):\n",
    "        if(future.done()):\n",
    "            exec_time = future.result()[1]\n",
    "            if(exec_time < 2):\n",
    "                time.sleep(2 - exec_time)\n",
    "                print(\"done sleeping\")\n",
    "            break"
   ]
  },
  {
   "cell_type": "code",
   "execution_count": null,
   "metadata": {},
   "outputs": [],
   "source": []
  }
 ],
 "metadata": {
  "kernelspec": {
   "display_name": "Python 3",
   "language": "python",
   "name": "python3"
  },
  "language_info": {
   "codemirror_mode": {
    "name": "ipython",
    "version": 3
   },
   "file_extension": ".py",
   "mimetype": "text/x-python",
   "name": "python",
   "nbconvert_exporter": "python",
   "pygments_lexer": "ipython3",
   "version": "3.7.9"
  }
 },
 "nbformat": 4,
 "nbformat_minor": 4
}
