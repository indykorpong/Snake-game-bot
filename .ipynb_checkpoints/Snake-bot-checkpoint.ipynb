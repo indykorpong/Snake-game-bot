{
 "cells": [
  {
   "cell_type": "code",
   "execution_count": 212,
   "metadata": {},
   "outputs": [],
   "source": [
    "from PIL import Image\n",
    "from queue import Queue\n",
    "\n",
    "import numpy as np\n",
    "import time"
   ]
  },
  {
   "cell_type": "code",
   "execution_count": 226,
   "metadata": {},
   "outputs": [],
   "source": [
    "def distance(x, y):\n",
    "#     return (y[0]-x[0])**2 + (y[1]-x[1])**2 + (y[2]-x[2])**2\n",
    "    return abs(y[0]-x[0]) + abs(y[1]-x[1]) + abs(y[2]-x[2])"
   ]
  },
  {
   "cell_type": "code",
   "execution_count": 181,
   "metadata": {},
   "outputs": [],
   "source": [
    "class Pixel:\n",
    "    def __init__(self, x, y):\n",
    "        self.x = x\n",
    "        self.y = y"
   ]
  },
  {
   "cell_type": "code",
   "execution_count": 182,
   "metadata": {},
   "outputs": [],
   "source": [
    "def get_neighbors(p, width, height):\n",
    "    neighbors = []\n",
    "    for i in range(-1, 2):\n",
    "        for j in range(-1, 2):\n",
    "            if(not(i==0 and j==0)):\n",
    "                xn = p.x + i\n",
    "                yn = p.y + j\n",
    "                if(xn>=0 and xn<width and yn>=0 and yn<height):\n",
    "                    neighbors.append(Pixel(xn, yn))\n",
    "                    \n",
    "    return neighbors"
   ]
  },
  {
   "cell_type": "code",
   "execution_count": 202,
   "metadata": {},
   "outputs": [],
   "source": [
    "def label_neighbors(fg_chk, q, width, height, current_label, labels):\n",
    "    while(not q.empty()):\n",
    "        p = q.get()\n",
    "        for pn in get_neighbors(p, width, height):\n",
    "            if(fg_chk[pn.y, pn.x]==1 and labels[pn.y, pn.x]==-1):\n",
    "                labels[pn.y, pn.x] = current_label\n",
    "                q.put(pn)\n",
    "                \n",
    "    return labels"
   ]
  },
  {
   "cell_type": "code",
   "execution_count": 228,
   "metadata": {},
   "outputs": [],
   "source": [
    "def item_segmentation(image_no):    \n",
    "    im_bg = Image.open(\"raw_images/bg.png\")\n",
    "    im_1 = Image.open(f\"raw_images/{image_no}.png\")\n",
    "    \n",
    "    (left, upper, right, lower) = (503, 263, 1436, 823)\n",
    "    im_c_bg = im_bg.crop((left, upper, right, lower))\n",
    "    im_c_1 = im_1.crop((left, upper, right, lower))\n",
    "\n",
    "#     im_c_bg.save(\"proc_images/bg_cropped.png\")\n",
    "#     im_c_1.save(f\"proc_images/im_{image_no}_cropped.png\")\n",
    "    \n",
    "    width = right - left      # 933\n",
    "    height = lower - upper    # 560\n",
    "\n",
    "    im_sub = Image.new(mode='1', size=(width, height))\n",
    "\n",
    "    start_time = time.time()\n",
    "    \n",
    "    for y in range(height):\n",
    "        for x in range(width):\n",
    "            p1 = im_c_bg.getpixel((x, y))\n",
    "            p2 = im_c_1.getpixel((x, y))\n",
    "            if(distance(p1, p2) > 30):\n",
    "                im_sub.putpixel((x, y), 1)\n",
    "                \n",
    "    end_time = time.time()\n",
    "\n",
    "#     im_sub.save(f\"proc_images/im_{image_no}_bg_subtraction.png\")\n",
    "    \n",
    "    fg_chk = np.full((height, width), -1)\n",
    "    labels = np.full((height, width), -1)\n",
    "    \n",
    "    for y in range(height):\n",
    "        for x in range(width):\n",
    "            fg_chk[y, x] = im_sub.getpixel((x, y))\n",
    "        \n",
    "    # Connected Component Labeling\n",
    "    current_label = 0\n",
    "    q = Queue()\n",
    "\n",
    "    for y in range(height):\n",
    "        for x in range(width):\n",
    "            if(fg_chk[y, x]==1 and labels[y, x]==-1):\n",
    "                labels[y, x] = current_label\n",
    "                q.put(Pixel(x, y))\n",
    "                labels = label_neighbors(fg_chk, q, width, height, current_label, labels)\n",
    "                current_label += 1\n",
    "    \n",
    "    im_label = Image.new(mode='1', size=(width, height))\n",
    "    item_im_arr = []\n",
    "\n",
    "    for i in range(current_label):\n",
    "        x_min = width\n",
    "        x_max = 0\n",
    "        y_min = height\n",
    "        y_max = 0\n",
    "\n",
    "        for y in range(height):\n",
    "            for x in range(width):\n",
    "                if(labels[y, x]==i):\n",
    "                    if(x < x_min):\n",
    "                        x_min = x\n",
    "                    if(x > x_max):\n",
    "                        x_max = x\n",
    "                    if(y < y_min):\n",
    "                        y_min = y\n",
    "                    if(y > y_max):\n",
    "                        y_max = y\n",
    "\n",
    "        item_im_arr.append(im_c_1.crop((x_min, y_min, x_max, y_max)))\n",
    "\n",
    "#         for y in range(y_min, y_max+1):\n",
    "#             for x in range(x_min, x_max+1):\n",
    "#                 im_label.putpixel((x, y), 1)\n",
    "\n",
    "#     im_label.save(f\"proc_images/im_{image_no}_item_segmentation.png\")\n",
    "    \n",
    "    cnt = 0\n",
    "    for im in item_im_arr:\n",
    "        cnt += 1\n",
    "        filename = f\"proc_images/im_{image_no}_item_{cnt}.png\"\n",
    "#         im.save(filename)\n",
    "\n",
    "#     print(end_time - start_time)\n",
    "        \n",
    "    return item_im_arr"
   ]
  },
  {
   "cell_type": "code",
   "execution_count": 235,
   "metadata": {},
   "outputs": [
    {
     "name": "stdout",
     "output_type": "stream",
     "text": [
      "0.8398842811584473\n"
     ]
    }
   ],
   "source": [
    "image_no = 1\n",
    "item_im_arr = item_segmentation(image_no)"
   ]
  },
  {
   "cell_type": "code",
   "execution_count": 236,
   "metadata": {},
   "outputs": [
    {
     "name": "stdout",
     "output_type": "stream",
     "text": [
      "77\n",
      "0.012349639133921411\n",
      "476\n",
      "0.5118279569892473\n"
     ]
    }
   ],
   "source": [
    "for im in item_im_arr:\n",
    "    red_cnt = 0\n",
    "    for y in range(im.height):\n",
    "        for x in range(im.width):            \n",
    "            p = im.getpixel((x, y))\n",
    "            if(p[0]>160 and p[1]<90 and p[2]<90):\n",
    "                red_cnt += 1\n",
    "                \n",
    "    print(red_cnt)\n",
    "    print(red_cnt/(im.height*im.width))"
   ]
  },
  {
   "cell_type": "code",
   "execution_count": null,
   "metadata": {},
   "outputs": [],
   "source": []
  }
 ],
 "metadata": {
  "kernelspec": {
   "display_name": "Python 3",
   "language": "python",
   "name": "python3"
  },
  "language_info": {
   "codemirror_mode": {
    "name": "ipython",
    "version": 3
   },
   "file_extension": ".py",
   "mimetype": "text/x-python",
   "name": "python",
   "nbconvert_exporter": "python",
   "pygments_lexer": "ipython3",
   "version": "3.7.6"
  }
 },
 "nbformat": 4,
 "nbformat_minor": 2
}
