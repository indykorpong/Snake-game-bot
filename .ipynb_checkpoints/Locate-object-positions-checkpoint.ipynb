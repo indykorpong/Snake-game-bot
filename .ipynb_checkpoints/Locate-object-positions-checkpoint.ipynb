{
 "cells": [
  {
   "cell_type": "code",
   "execution_count": 1,
   "metadata": {},
   "outputs": [],
   "source": [
    "import cv2\n",
    "import os\n",
    "import numpy as np\n",
    "import matplotlib.pyplot as plt\n",
    "\n",
    "from enum import Enum"
   ]
  },
  {
   "cell_type": "code",
   "execution_count": 2,
   "metadata": {},
   "outputs": [],
   "source": [
    "def open_img(img_path):\n",
    "    img = cv2.imread(img_path)\n",
    "    \n",
    "    (left, upper, right, lower) = (572, 271, 1330, 940)\n",
    "    img_cropped = img[upper:lower, left:right]\n",
    "    \n",
    "    return img_cropped"
   ]
  },
  {
   "cell_type": "code",
   "execution_count": 62,
   "metadata": {},
   "outputs": [],
   "source": [
    "def crop_img(img):\n",
    "    (upper_t, lower_t, left_t, right_t) = (9, 31, 9, 31)\n",
    "    img = img[upper_t:lower_t, left_t:right_t]\n",
    "    \n",
    "    return img"
   ]
  },
  {
   "cell_type": "markdown",
   "metadata": {},
   "source": [
    "# Histogram methods"
   ]
  },
  {
   "cell_type": "code",
   "execution_count": 63,
   "metadata": {},
   "outputs": [],
   "source": [
    "def calc_hist(img):\n",
    "    img = crop_img(img)\n",
    "    \n",
    "    chans = cv2.split(img)\n",
    "    colors = (\"b\", \"g\", \"r\")\n",
    "    \n",
    "    hist_arr = []\n",
    "    \n",
    "    # loop over the image channels\n",
    "    for (chan, color) in zip(chans, colors):\n",
    "        \n",
    "        hist = cv2.calcHist([chan], [0], None, [128], [0, 256])\n",
    "        norm_hist = cv2.normalize(hist, None, alpha=0, beta=1, norm_type=cv2.NORM_MINMAX, dtype=cv2.CV_32F)\n",
    "        hist_arr.append(norm_hist)\n",
    "            \n",
    "    return hist_arr"
   ]
  },
  {
   "cell_type": "code",
   "execution_count": 5,
   "metadata": {},
   "outputs": [],
   "source": [
    "def plot_hist(hist):\n",
    "    plt.title(\"'Flattened' Color Histogram\")\n",
    "    plt.xlabel(\"Bins\")\n",
    "    plt.ylabel(\"# of Pixels\")\n",
    "    \n",
    "    chans = (0, 1, 2)\n",
    "    colors = (\"b\", \"g\", \"r\")\n",
    "    for (chan, color) in zip(chans, colors):\n",
    "        plt.plot(hist[chan], color=color)\n",
    "    \n",
    "    plt.show()\n",
    "    plt.close()"
   ]
  },
  {
   "cell_type": "code",
   "execution_count": 16,
   "metadata": {},
   "outputs": [],
   "source": [
    "def calc_all_hist():\n",
    "    hist_all_label = []\n",
    "    img_all_label = []\n",
    "    \n",
    "    labeled_folder_path = \"img_gallery\"\n",
    "    \n",
    "    for name, member in Label.__members__.items():\n",
    "        label = member.value\n",
    "        labeled_path = f\"{labeled_folder_path}/{label}/\"\n",
    "\n",
    "        hist_label = []        \n",
    "        img_label = []\n",
    "        for filename in os.listdir(labeled_path):\n",
    "#             print(labeled_path + filename)\n",
    "            img = cv2.imread(labeled_path + filename)\n",
    "            img_crp = crop_img(img)\n",
    "            \n",
    "            hist_img = calc_hist(img_crp)\n",
    "            hist_label.append(hist_img)\n",
    "            img_label.append(img_crp)\n",
    "        hist_all_label.append(hist_label)\n",
    "        img_all_label.append(img_label)\n",
    "        \n",
    "    return hist_all_label, img_all_label"
   ]
  },
  {
   "cell_type": "markdown",
   "metadata": {},
   "source": [
    "# Preprocessing methods"
   ]
  },
  {
   "cell_type": "code",
   "execution_count": 7,
   "metadata": {},
   "outputs": [],
   "source": [
    "def preprocessing(img):\n",
    "    bg = open_img(\"img_raw/bg.png\")\n",
    "    \n",
    "    # background subtraction\n",
    "    img_sub = cv2.subtract(img, bg)\n",
    "    \n",
    "    # masking the image with the background\n",
    "    img_gray = cv2.cvtColor(img_sub, cv2.COLOR_BGR2GRAY)\n",
    "    ret,thresh1 = cv2.threshold(img_gray,5,255,cv2.THRESH_BINARY)\n",
    "\n",
    "    kernel = np.ones((3,3),np.uint8)\n",
    "    erosion = cv2.erode(thresh1,kernel,iterations = 2)\n",
    "    dilation = cv2.dilate(erosion,kernel,iterations = 2)\n",
    "    \n",
    "    img_masked = cv2.bitwise_and(img, img, mask=dilation)\n",
    "    \n",
    "    return img_masked"
   ]
  },
  {
   "cell_type": "code",
   "execution_count": 8,
   "metadata": {},
   "outputs": [],
   "source": [
    "def separate_img_to_tiles(img, image_no, out_folder):\n",
    "    nrows = 15\n",
    "    ncols = 17\n",
    "    img_tiles = []\n",
    "\n",
    "    size = 40\n",
    "    w_start = 35\n",
    "    h_start = 31\n",
    "\n",
    "    y_start = h_start\n",
    "    for i in range(nrows):\n",
    "        if(i%2==0):\n",
    "            y_end = y_start + size\n",
    "        elif(i%2==1):\n",
    "            y_end = y_start + (size+1)\n",
    "\n",
    "        img_row = []\n",
    "        x_start = w_start\n",
    "        for j in range(ncols):\n",
    "            if(j%2==0):\n",
    "                x_end = x_start + (size+1)\n",
    "            elif(j%2==1):\n",
    "                x_end = x_start + size\n",
    "            \n",
    "            img_i = img[y_start:y_start+size, x_start:x_start+size]\n",
    "            img_row.append(img_i)\n",
    "            \n",
    "            dir_path = f\"{out_folder}/img_{image_no}\"\n",
    "            if(not os.path.exists(dir_path)):\n",
    "                os.mkdir(dir_path)\n",
    "            \n",
    "            first_digit = str(i+1)\n",
    "            second_digit = str(j+1)\n",
    "            if(i+1<10):\n",
    "                first_digit = f\"0{first_digit}\"\n",
    "            if(j+1<10):\n",
    "                second_digit = f\"0{second_digit}\"\n",
    "                \n",
    "            img_no = str(image_no)\n",
    "            if(image_no<10):\n",
    "                img_no = f\"0{image_no}\"\n",
    "\n",
    "            cv2.imwrite(f\"{dir_path}/img_{img_no}_{first_digit}_{second_digit}.png\", img_i)\n",
    "            \n",
    "            # set the rightmost x-coordinate to be the new x_start\n",
    "            x_start = x_end\n",
    "            \n",
    "        # set the bottommost y-coordinate to be the new y_start\n",
    "        y_start = y_end\n",
    "        \n",
    "        img_tiles.append(img_row)\n",
    "    \n",
    "    return img_tiles"
   ]
  },
  {
   "cell_type": "code",
   "execution_count": 9,
   "metadata": {},
   "outputs": [],
   "source": [
    "def segmentation(image_no, in_folder, out_folder):\n",
    "    img_path = f\"{in_folder}/{image_no}.png\"\n",
    "    img = open_img(img_path)    \n",
    "    img_pp = preprocessing(img)\n",
    "    img_tiles = separate_img_to_tiles(img_pp, image_no, out_folder)\n",
    "        \n",
    "    return img_tiles"
   ]
  },
  {
   "cell_type": "markdown",
   "metadata": {},
   "source": [
    "# Prediction method"
   ]
  },
  {
   "cell_type": "code",
   "execution_count": 10,
   "metadata": {},
   "outputs": [],
   "source": [
    "def predict_img_label(img, hist_all_label, threshold):\n",
    "#     img = crop_img(img)\n",
    "    hist_img = calc_hist(img)\n",
    "    \n",
    "    threshold_bg = 0.9\n",
    "    threshold_0 = threshold\n",
    "    \n",
    "    matched_label_no = -1\n",
    "    matched_hist_no = -1\n",
    "    max_coeff = -1\n",
    "    \n",
    "    for label_no in range(n_label):\n",
    "        for hist_no in range(len(hist_all_label[label_no])):\n",
    "            sum_diff = 0\n",
    "            diffs = []\n",
    "            for chan in range(3):\n",
    "                diff = cv2.compareHist(hist_img[chan], hist_all_label[label_no][hist_no][chan], cv2.HISTCMP_CORREL)\n",
    "                sum_diff += diff\n",
    "                diffs.append(diff)\n",
    "\n",
    "            avg_diff = sum_diff/3\n",
    "            to_print = False\n",
    "            \n",
    "            threshold_0 = threshold_bg if(Label(label_no).name=='BG') else threshold\n",
    "                \n",
    "            if(avg_diff > threshold_0):\n",
    "                to_print = True\n",
    "                for k in range(3):\n",
    "                    if(diffs[k]<threshold_0):\n",
    "                        to_print = False\n",
    "\n",
    "            if(to_print):\n",
    "                if(avg_diff>max_coeff):\n",
    "                    max_coeff = avg_diff\n",
    "                    matched_label_no = label_no\n",
    "                    matched_hist_no = hist_no\n",
    "    \n",
    "    if(max_coeff!=-1):\n",
    "        return matched_label_no, matched_hist_no, max_coeff\n",
    "    \n",
    "    return 0, -1, 0"
   ]
  },
  {
   "cell_type": "markdown",
   "metadata": {},
   "source": [
    "# Executions"
   ]
  },
  {
   "cell_type": "code",
   "execution_count": 11,
   "metadata": {},
   "outputs": [],
   "source": [
    "image_no = 11\n",
    "bg = open_img(\"img_raw/bg.png\")\n",
    "img1 = open_img(f\"img_raw/{image_no}.png\")\n",
    "\n",
    "bg_gray = cv2.cvtColor(bg, cv2.COLOR_BGR2GRAY)\n",
    "img1_gray = cv2.cvtColor(img1, cv2.COLOR_BGR2GRAY)"
   ]
  },
  {
   "cell_type": "code",
   "execution_count": 19,
   "metadata": {},
   "outputs": [],
   "source": [
    "for i in range(46,48):\n",
    "    segmentation(i, \"img_raw\", \"img_proc\")"
   ]
  },
  {
   "cell_type": "code",
   "execution_count": 13,
   "metadata": {},
   "outputs": [],
   "source": [
    "# for i in range(18):\n",
    "#     segmentation(i, \"img_probe\", \"img_probe\")"
   ]
  },
  {
   "cell_type": "markdown",
   "metadata": {},
   "source": [
    "## Demo"
   ]
  },
  {
   "cell_type": "code",
   "execution_count": 14,
   "metadata": {},
   "outputs": [
    {
     "name": "stdout",
     "output_type": "stream",
     "text": [
      "['BG', 'APPL', 'BODY', 'HEAD']\n"
     ]
    }
   ],
   "source": [
    "labeled_folder_path = \"img_gallery\"\n",
    "# labels = [str(i) for i in range(4)]\n",
    "# n_label = int(labels[-1]) + 1\n",
    "\n",
    "class Label(Enum):\n",
    "    BG = 0\n",
    "    APPL = 1\n",
    "    BODY = 2\n",
    "    HEAD = 3\n",
    "    \n",
    "n_label = len(list(Label))\n",
    "label_str = [name for name, member in Label.__members__.items()]\n",
    "print(label_str)\n",
    "\n",
    "(upper_t, lower_t, left_t, right_t) = (6, 34, 6, 34)"
   ]
  },
  {
   "cell_type": "code",
   "execution_count": 64,
   "metadata": {},
   "outputs": [
    {
     "data": {
      "image/png": "[encoded data removed]",
      "text/plain": [
       "<Figure size 432x288 with 2 Axes>"
      ]
     },
     "metadata": {
      "needs_background": "light"
     },
     "output_type": "display_data"
    },
    {
     "name": "stdout",
     "output_type": "stream",
     "text": [
      "filename = img_47_01_13.png, label = APPL, i = 1, j = 0, Max coeff. = 0.5314412858992357\n",
      "----------------------------------------------------------\n"
     ]
    },
    {
     "data": {
      "image/png": "[encoded data removed]",
      "text/plain": [
       "<Figure size 432x288 with 2 Axes>"
      ]
     },
     "metadata": {
      "needs_background": "light"
     },
     "output_type": "display_data"
    },
    {
     "name": "stdout",
     "output_type": "stream",
     "text": [
      "filename = img_47_07_03.png, label = BODY, i = 2, j = 10, Max coeff. = 0.006533030161202011\n",
      "----------------------------------------------------------\n"
     ]
    },
    {
     "data": {
      "image/png": "[encoded data removed]",
      "text/plain": [
       "<Figure size 432x288 with 2 Axes>"
      ]
     },
     "metadata": {
      "needs_background": "light"
     },
     "output_type": "display_data"
    },
    {
     "name": "stdout",
     "output_type": "stream",
     "text": [
      "filename = img_47_07_04.png, label = BODY, i = 2, j = 4, Max coeff. = 0.038780726486517245\n",
      "----------------------------------------------------------\n"
     ]
    },
    {
     "data": {
      "image/png": "[encoded data removed]",
      "text/plain": [
       "<Figure size 432x288 with 2 Axes>"
      ]
     },
     "metadata": {
      "needs_background": "light"
     },
     "output_type": "display_data"
    },
    {
     "name": "stdout",
     "output_type": "stream",
     "text": [
      "filename = img_47_07_05.png, label = BODY, i = 2, j = 4, Max coeff. = 0.5274261516617487\n",
      "----------------------------------------------------------\n"
     ]
    },
    {
     "data": {
      "image/png": "[encoded data removed]",
      "text/plain": [
       "<Figure size 432x288 with 2 Axes>"
      ]
     },
     "metadata": {
      "needs_background": "light"
     },
     "output_type": "display_data"
    },
    {
     "name": "stdout",
     "output_type": "stream",
     "text": [
      "filename = img_47_07_06.png, label = BODY, i = 2, j = 4, Max coeff. = 0.7753433443591455\n",
      "----------------------------------------------------------\n"
     ]
    },
    {
     "data": {
      "image/png": "[encoded data removed]",
      "text/plain": [
       "<Figure size 432x288 with 2 Axes>"
      ]
     },
     "metadata": {
      "needs_background": "light"
     },
     "output_type": "display_data"
    },
    {
     "name": "stdout",
     "output_type": "stream",
     "text": [
      "filename = img_47_07_07.png, label = BODY, i = 2, j = 4, Max coeff. = 0.35157497588605896\n",
      "----------------------------------------------------------\n"
     ]
    },
    {
     "data": {
      "image/png": "[encoded data removed]",
      "text/plain": [
       "<Figure size 432x288 with 2 Axes>"
      ]
     },
     "metadata": {
      "needs_background": "light"
     },
     "output_type": "display_data"
    },
    {
     "name": "stdout",
     "output_type": "stream",
     "text": [
      "filename = img_47_07_08.png, label = BODY, i = 2, j = 2, Max coeff. = 0.4608540825954616\n",
      "----------------------------------------------------------\n"
     ]
    },
    {
     "data": {
      "image/png": "[encoded data removed]",
      "text/plain": [
       "<Figure size 432x288 with 2 Axes>"
      ]
     },
     "metadata": {
      "needs_background": "light"
     },
     "output_type": "display_data"
    },
    {
     "name": "stdout",
     "output_type": "stream",
     "text": [
      "filename = img_47_08_03.png, label = BODY, i = 2, j = 15, Max coeff. = 0.6638312455734763\n",
      "----------------------------------------------------------\n"
     ]
    },
    {
     "data": {
      "image/png": "[encoded data removed]",
      "text/plain": [
       "<Figure size 432x288 with 2 Axes>"
      ]
     },
     "metadata": {
      "needs_background": "light"
     },
     "output_type": "display_data"
    },
    {
     "name": "stdout",
     "output_type": "stream",
     "text": [
      "filename = img_47_08_08.png, label = BODY, i = 2, j = 14, Max coeff. = 0.2522703375607236\n",
      "----------------------------------------------------------\n"
     ]
    },
    {
     "data": {
      "image/png": "[encoded data removed]",
      "text/plain": [
       "<Figure size 432x288 with 2 Axes>"
      ]
     },
     "metadata": {
      "needs_background": "light"
     },
     "output_type": "display_data"
    },
    {
     "name": "stdout",
     "output_type": "stream",
     "text": [
      "filename = img_47_09_03.png, label = BODY, i = 2, j = 15, Max coeff. = 0.9988471524316495\n",
      "----------------------------------------------------------\n"
     ]
    },
    {
     "data": {
      "image/png": "[encoded data removed]",
      "text/plain": [
       "<Figure size 432x288 with 2 Axes>"
      ]
     },
     "metadata": {
      "needs_background": "light"
     },
     "output_type": "display_data"
    },
    {
     "name": "stdout",
     "output_type": "stream",
     "text": [
      "filename = img_47_09_08.png, label = BODY, i = 2, j = 2, Max coeff. = 0.7186149903538662\n",
      "----------------------------------------------------------\n"
     ]
    },
    {
     "data": {
      "image/png": "[encoded data removed]",
      "text/plain": [
       "<Figure size 432x288 with 2 Axes>"
      ]
     },
     "metadata": {
      "needs_background": "light"
     },
     "output_type": "display_data"
    },
    {
     "name": "stdout",
     "output_type": "stream",
     "text": [
      "filename = img_47_10_03.png, label = BODY, i = 2, j = 10, Max coeff. = 0.8707704699371833\n",
      "----------------------------------------------------------\n"
     ]
    },
    {
     "data": {
      "image/png": "[encoded data removed]",
      "text/plain": [
       "<Figure size 432x288 with 2 Axes>"
      ]
     },
     "metadata": {
      "needs_background": "light"
     },
     "output_type": "display_data"
    },
    {
     "name": "stdout",
     "output_type": "stream",
     "text": [
      "filename = img_47_10_08.png, label = BODY, i = 2, j = 1, Max coeff. = 0.7556947608877244\n",
      "----------------------------------------------------------\n"
     ]
    },
    {
     "data": {
      "image/png": "[encoded data removed]",
      "text/plain": [
       "<Figure size 432x288 with 2 Axes>"
      ]
     },
     "metadata": {
      "needs_background": "light"
     },
     "output_type": "display_data"
    },
    {
     "name": "stdout",
     "output_type": "stream",
     "text": [
      "filename = img_47_10_09.png, label = BODY, i = 2, j = 1, Max coeff. = 0.7132237047578437\n",
      "----------------------------------------------------------\n"
     ]
    },
    {
     "data": {
      "image/png": "[encoded data removed]",
      "text/plain": [
       "<Figure size 432x288 with 2 Axes>"
      ]
     },
     "metadata": {
      "needs_background": "light"
     },
     "output_type": "display_data"
    },
    {
     "name": "stdout",
     "output_type": "stream",
     "text": [
      "filename = img_47_10_10.png, label = BODY, i = 2, j = 1, Max coeff. = 0.419706664442558\n",
      "----------------------------------------------------------\n"
     ]
    },
    {
     "data": {
      "image/png": "[encoded data removed]",
      "text/plain": [
       "<Figure size 432x288 with 2 Axes>"
      ]
     },
     "metadata": {
      "needs_background": "light"
     },
     "output_type": "display_data"
    },
    {
     "name": "stdout",
     "output_type": "stream",
     "text": [
      "filename = img_47_10_11.png, label = BODY, i = 2, j = 1, Max coeff. = 0.3959983954229811\n",
      "----------------------------------------------------------\n"
     ]
    },
    {
     "data": {
      "image/png": "[encoded data removed]",
      "text/plain": [
       "<Figure size 432x288 with 2 Axes>"
      ]
     },
     "metadata": {
      "needs_background": "light"
     },
     "output_type": "display_data"
    },
    {
     "name": "stdout",
     "output_type": "stream",
     "text": [
      "filename = img_47_10_12.png, label = BODY, i = 2, j = 3, Max coeff. = 0.8635828217941538\n",
      "----------------------------------------------------------\n"
     ]
    },
    {
     "data": {
      "image/png": "[encoded data removed]",
      "text/plain": [
       "<Figure size 432x288 with 2 Axes>"
      ]
     },
     "metadata": {
      "needs_background": "light"
     },
     "output_type": "display_data"
    },
    {
     "name": "stdout",
     "output_type": "stream",
     "text": [
      "filename = img_47_10_13.png, label = BODY, i = 2, j = 3, Max coeff. = 0.25760711054264546\n",
      "----------------------------------------------------------\n"
     ]
    },
    {
     "data": {
      "image/png": "[encoded data removed]",
      "text/plain": [
       "<Figure size 432x288 with 2 Axes>"
      ]
     },
     "metadata": {
      "needs_background": "light"
     },
     "output_type": "display_data"
    },
    {
     "name": "stdout",
     "output_type": "stream",
     "text": [
      "filename = img_47_10_14.png, label = BODY, i = 2, j = 3, Max coeff. = 0.08067167228281641\n",
      "----------------------------------------------------------\n"
     ]
    },
    {
     "data": {
      "image/png": "[encoded data removed]",
      "text/plain": [
       "<Figure size 432x288 with 2 Axes>"
      ]
     },
     "metadata": {
      "needs_background": "light"
     },
     "output_type": "display_data"
    },
    {
     "name": "stdout",
     "output_type": "stream",
     "text": [
      "filename = img_47_10_15.png, label = HEAD, i = 3, j = 1, Max coeff. = 0.6044854772680098\n",
      "----------------------------------------------------------\n"
     ]
    },
    {
     "data": {
      "image/png": "[encoded data removed]",
      "text/plain": [
       "<Figure size 432x288 with 2 Axes>"
      ]
     },
     "metadata": {
      "needs_background": "light"
     },
     "output_type": "display_data"
    },
    {
     "name": "stdout",
     "output_type": "stream",
     "text": [
      "filename = img_47_10_16.png, label = HEAD, i = 3, j = 1, Max coeff. = 0.39120297541015087\n",
      "----------------------------------------------------------\n"
     ]
    },
    {
     "data": {
      "image/png": "[encoded data removed]",
      "text/plain": [
       "<Figure size 432x288 with 2 Axes>"
      ]
     },
     "metadata": {
      "needs_background": "light"
     },
     "output_type": "display_data"
    },
    {
     "name": "stdout",
     "output_type": "stream",
     "text": [
      "filename = img_47_11_03.png, label = BODY, i = 2, j = 6, Max coeff. = 0.012582496177207357\n",
      "----------------------------------------------------------\n"
     ]
    },
    {
     "data": {
      "image/png": "[encoded data removed]",
      "text/plain": [
       "<Figure size 432x288 with 2 Axes>"
      ]
     },
     "metadata": {
      "needs_background": "light"
     },
     "output_type": "display_data"
    },
    {
     "name": "stdout",
     "output_type": "stream",
     "text": [
      "filename = img_47_12_01.png, label = BODY, i = 2, j = 7, Max coeff. = 0.5744956661957951\n",
      "----------------------------------------------------------\n"
     ]
    },
    {
     "data": {
      "image/png": "[encoded data removed]",
      "text/plain": [
       "<Figure size 432x288 with 2 Axes>"
      ]
     },
     "metadata": {
      "needs_background": "light"
     },
     "output_type": "display_data"
    },
    {
     "name": "stdout",
     "output_type": "stream",
     "text": [
      "filename = img_47_12_02.png, label = BODY, i = 2, j = 7, Max coeff. = 0.5844821562453446\n",
      "----------------------------------------------------------\n"
     ]
    },
    {
     "data": {
      "image/png": "[encoded data removed]",
      "text/plain": [
       "<Figure size 432x288 with 2 Axes>"
      ]
     },
     "metadata": {
      "needs_background": "light"
     },
     "output_type": "display_data"
    },
    {
     "name": "stdout",
     "output_type": "stream",
     "text": [
      "filename = img_47_13_01.png, label = BODY, i = 2, j = 9, Max coeff. = 0.800431085550153\n",
      "----------------------------------------------------------\n"
     ]
    },
    {
     "data": {
      "image/png": "[encoded data removed]",
      "text/plain": [
       "<Figure size 432x288 with 2 Axes>"
      ]
     },
     "metadata": {
      "needs_background": "light"
     },
     "output_type": "display_data"
    },
    {
     "name": "stdout",
     "output_type": "stream",
     "text": [
      "filename = img_47_14_01.png, label = BODY, i = 2, j = 9, Max coeff. = 0.6607232449443471\n",
      "----------------------------------------------------------\n"
     ]
    },
    {
     "data": {
      "image/png": "[encoded data removed]",
      "text/plain": [
       "<Figure size 432x288 with 2 Axes>"
      ]
     },
     "metadata": {
      "needs_background": "light"
     },
     "output_type": "display_data"
    },
    {
     "name": "stdout",
     "output_type": "stream",
     "text": [
      "filename = img_47_15_01.png, label = BODY, i = 2, j = 17, Max coeff. = 0.9561988927252066\n",
      "----------------------------------------------------------\n"
     ]
    },
    {
     "data": {
      "image/png": "[encoded data removed]",
      "text/plain": [
       "<Figure size 432x288 with 2 Axes>"
      ]
     },
     "metadata": {
      "needs_background": "light"
     },
     "output_type": "display_data"
    },
    {
     "name": "stdout",
     "output_type": "stream",
     "text": [
      "filename = img_47_15_02.png, label = BODY, i = 2, j = 16, Max coeff. = 0.39630776350471414\n",
      "----------------------------------------------------------\n"
     ]
    },
    {
     "data": {
      "image/png": "[encoded data removed]",
      "text/plain": [
       "<Figure size 432x288 with 2 Axes>"
      ]
     },
     "metadata": {
      "needs_background": "light"
     },
     "output_type": "display_data"
    },
    {
     "name": "stdout",
     "output_type": "stream",
     "text": [
      "filename = img_47_15_03.png, label = BODY, i = 2, j = 18, Max coeff. = 0.4407068827168749\n",
      "----------------------------------------------------------\n"
     ]
    },
    {
     "data": {
      "image/png": "[encoded data removed]",
      "text/plain": [
       "<Figure size 432x288 with 2 Axes>"
      ]
     },
     "metadata": {
      "needs_background": "light"
     },
     "output_type": "display_data"
    },
    {
     "name": "stdout",
     "output_type": "stream",
     "text": [
      "filename = img_47_15_04.png, label = BODY, i = 2, j = 0, Max coeff. = 0.6063560668280603\n",
      "----------------------------------------------------------\n"
     ]
    },
    {
     "data": {
      "image/png": "[encoded data removed]",
      "text/plain": [
       "<Figure size 432x288 with 2 Axes>"
      ]
     },
     "metadata": {
      "needs_background": "light"
     },
     "output_type": "display_data"
    },
    {
     "name": "stdout",
     "output_type": "stream",
     "text": [
      "filename = img_47_15_05.png, label = BODY, i = 2, j = 6, Max coeff. = 0.49893617838705345\n",
      "----------------------------------------------------------\n"
     ]
    },
    {
     "data": {
      "image/png": "[encoded data removed]",
      "text/plain": [
       "<Figure size 432x288 with 2 Axes>"
      ]
     },
     "metadata": {
      "needs_background": "light"
     },
     "output_type": "display_data"
    },
    {
     "name": "stdout",
     "output_type": "stream",
     "text": [
      "filename = img_47_15_06.png, label = BODY, i = 2, j = 6, Max coeff. = 0.5081881620984093\n",
      "----------------------------------------------------------\n"
     ]
    },
    {
     "data": {
      "image/png": "[encoded data removed]",
      "text/plain": [
       "<Figure size 432x288 with 2 Axes>"
      ]
     },
     "metadata": {
      "needs_background": "light"
     },
     "output_type": "display_data"
    },
    {
     "name": "stdout",
     "output_type": "stream",
     "text": [
      "filename = img_47_15_07.png, label = BODY, i = 2, j = 17, Max coeff. = 0.8509526536735613\n",
      "----------------------------------------------------------\n"
     ]
    },
    {
     "data": {
      "image/png": "[encoded data removed]",
      "text/plain": [
       "<Figure size 432x288 with 2 Axes>"
      ]
     },
     "metadata": {
      "needs_background": "light"
     },
     "output_type": "display_data"
    },
    {
     "name": "stdout",
     "output_type": "stream",
     "text": [
      "filename = img_47_15_08.png, label = BODY, i = 2, j = 17, Max coeff. = 0.8139102523684052\n",
      "----------------------------------------------------------\n"
     ]
    },
    {
     "data": {
      "image/png": "[encoded data removed]",
      "text/plain": [
       "<Figure size 432x288 with 2 Axes>"
      ]
     },
     "metadata": {
      "needs_background": "light"
     },
     "output_type": "display_data"
    },
    {
     "name": "stdout",
     "output_type": "stream",
     "text": [
      "filename = img_47_15_09.png, label = BODY, i = 2, j = 17, Max coeff. = 0.8291313164872952\n",
      "----------------------------------------------------------\n"
     ]
    },
    {
     "data": {
      "image/png": "[encoded data removed]",
      "text/plain": [
       "<Figure size 432x288 with 2 Axes>"
      ]
     },
     "metadata": {
      "needs_background": "light"
     },
     "output_type": "display_data"
    },
    {
     "name": "stdout",
     "output_type": "stream",
     "text": [
      "filename = img_47_15_10.png, label = BODY, i = 2, j = 17, Max coeff. = 0.8075483253160525\n",
      "----------------------------------------------------------\n",
      "========================================================================================\n"
     ]
    }
   ],
   "source": [
    "sample_folder_path = \"img_proc\"\n",
    "subfolder_path = [f\"{sample_folder_path}/img_{i}/\" for i in range(47,48)]\n",
    "\n",
    "threshold = -1\n",
    "hist_all_label = []\n",
    "img_all_label = []\n",
    "hist_all_label, img_all_label = calc_all_hist()\n",
    "\n",
    "for path in subfolder_path:\n",
    "    for filename in os.listdir(path):\n",
    "        img = cv2.imread(path + filename)\n",
    "        img = crop_img(img)\n",
    "        \n",
    "        img_label, img_no, max_coeff = predict_img_label(img, hist_all_label, threshold)\n",
    "        \n",
    "        if(img_label!=-1 and img_label!=0):\n",
    "            fig, axes = plt.subplots(ncols=2, nrows=1)\n",
    "            axes[0].imshow(img[::,::,::-1])\n",
    "            axes[1].imshow(img_all_label[img_label][img_no][::,::,::-1])\n",
    "            plt.show()\n",
    "            plt.close()\n",
    "            print(f\"filename = {filename}, label = {Label(img_label).name}, i = {img_label}, j = {img_no}, Max coeff. = {max_coeff}\")\n",
    "            print('----------------------------------------------------------')\n",
    "    print('========================================================================================')"
   ]
  },
  {
   "cell_type": "markdown",
   "metadata": {},
   "source": [
    "# Evaluation**"
   ]
  },
  {
   "cell_type": "code",
   "execution_count": null,
   "metadata": {},
   "outputs": [],
   "source": [
    "folder_path = \"img_probe_labeled\"\n",
    "\n",
    "threshold = -1\n",
    "hist_all_label, img_all_label = calc_all_hist()\n",
    "\n",
    "# array of labels\n",
    "predicted = []\n",
    "ground_truth = []\n",
    "\n",
    "for Label_i in Label.__members__.items():\n",
    "    label = Label_i[1].value    \n",
    "    probe_folder_path = f\"{folder_path}/{label}/\"\n",
    "    \n",
    "    for filename in os.listdir(probe_folder_path):\n",
    "        img = cv2.imread(probe_folder_path + filename)\n",
    "        img_label, img_no, coeff = predict_img_label(img, hist_all_label, threshold)\n",
    "        \n",
    "        ground_truth.append(int(label))\n",
    "        predicted.append(img_label)"
   ]
  },
  {
   "cell_type": "markdown",
   "metadata": {},
   "source": [
    "## Confusion Matrix"
   ]
  },
  {
   "cell_type": "code",
   "execution_count": null,
   "metadata": {},
   "outputs": [],
   "source": [
    "import itertools\n",
    "from sklearn.metrics import confusion_matrix\n",
    "from sklearn.metrics import classification_report"
   ]
  },
  {
   "cell_type": "code",
   "execution_count": null,
   "metadata": {},
   "outputs": [],
   "source": [
    "def plot_confusion_matrix(cm, classes,\n",
    "                          normalize=False,\n",
    "                          title='Confusion matrix',\n",
    "                          cmap=plt.cm.Blues):\n",
    "    \"\"\"\n",
    "    This function prints and plots the confusion matrix.\n",
    "    Normalization can be applied by setting `normalize=True`.\n",
    "    \"\"\"\n",
    "    if normalize:\n",
    "        cm = cm.astype('float') / cm.sum(axis=1)[:, np.newaxis]\n",
    "#         print(\"Normalized confusion matrix\")\n",
    "#     else:\n",
    "#         print('Confusion matrix, without normalization')\n",
    "\n",
    "#     print(cm)\n",
    "\n",
    "    plt.imshow(cm, interpolation='nearest', cmap=cmap)\n",
    "    plt.title(title)\n",
    "    plt.colorbar()\n",
    "    tick_marks = np.arange(len(classes))\n",
    "    plt.xticks(tick_marks, classes, rotation=45)\n",
    "    plt.yticks(tick_marks, classes)\n",
    "\n",
    "    fmt = '.2f' if normalize else 'd'\n",
    "    thresh = cm.max() / 2.\n",
    "    for i, j in itertools.product(range(cm.shape[0]), range(cm.shape[1])):\n",
    "        plt.text(j, i, format(cm[i, j], fmt),\n",
    "                 horizontalalignment=\"center\",\n",
    "                 color=\"white\" if cm[i, j] > thresh else \"black\")\n",
    "\n",
    "    plt.ylabel('True label')\n",
    "    plt.xlabel('Predicted label')\n",
    "    plt.tight_layout()"
   ]
  },
  {
   "cell_type": "code",
   "execution_count": null,
   "metadata": {},
   "outputs": [],
   "source": [
    "def show_conf_matrix(y_test, y_pred, labels):\n",
    "    # Compute confusion matrix\n",
    "    cnf_matrix = confusion_matrix(y_test, y_pred)\n",
    "    np.set_printoptions(precision=2)\n",
    "\n",
    "    # Plot non-normalized confusion matrix\n",
    "    plt.figure()\n",
    "    plot_confusion_matrix(cnf_matrix, classes=labels,\n",
    "                          title='Confusion matrix, without normalization')\n",
    "\n",
    "    # Plot normalized confusion matrix\n",
    "    plt.figure()\n",
    "    plot_confusion_matrix(cnf_matrix, classes=labels, normalize=True,\n",
    "                          title='Normalized confusion matrix')\n",
    "\n",
    "    plt.show()"
   ]
  },
  {
   "cell_type": "code",
   "execution_count": null,
   "metadata": {},
   "outputs": [],
   "source": [
    "def show_clf_report(y_test, y_pred, labels):\n",
    "    print(classification_report(y_test, y_pred, target_names=labels))"
   ]
  },
  {
   "cell_type": "code",
   "execution_count": null,
   "metadata": {},
   "outputs": [],
   "source": [
    "show_conf_matrix(ground_truth, predicted, label_str)\n",
    "show_clf_report(ground_truth, predicted, label_str)"
   ]
  },
  {
   "cell_type": "markdown",
   "metadata": {},
   "source": [
    "# Test"
   ]
  },
  {
   "cell_type": "code",
   "execution_count": 57,
   "metadata": {},
   "outputs": [
    {
     "name": "stdout",
     "output_type": "stream",
     "text": [
      "-0.020965177204249775\n",
      "0.91814152909121\n",
      "-0.020493988305034894\n",
      "--------------------\n",
      "0.2922274545273085\n"
     ]
    },
    {
     "data": {
      "image/png": "[encoded data removed]",
      "text/plain": [
       "<Figure size 432x288 with 1 Axes>"
      ]
     },
     "metadata": {
      "needs_background": "light"
     },
     "output_type": "display_data"
    },
    {
     "data": {
      "image/png": "[encoded data removed]",
      "text/plain": [
       "<Figure size 432x288 with 1 Axes>"
      ]
     },
     "metadata": {
      "needs_background": "light"
     },
     "output_type": "display_data"
    },
    {
     "data": {
      "image/png": "[encoded data removed]",
      "text/plain": [
       "<Figure size 360x864 with 2 Axes>"
      ]
     },
     "metadata": {
      "needs_background": "light"
     },
     "output_type": "display_data"
    }
   ],
   "source": [
    "img_no = 47\n",
    "img_filename = f\"img_47_01_13.png\"\n",
    "\n",
    "folder_path = f\"img_proc/img_{img_no}\"\n",
    "img_path = f\"{folder_path}/{img_filename}\"\n",
    "\n",
    "img_i = cv2.imread(img_path)\n",
    "img_i = crop_img(img_i)\n",
    "hist_i = calc_hist(img_i)\n",
    "\n",
    "hist_all_label, img_all_label = calc_all_hist()\n",
    "\n",
    "x = Label.BODY.value\n",
    "y = 11\n",
    "\n",
    "# x = Label.APPL.value\n",
    "# y = 0\n",
    "\n",
    "sum_diff = 0\n",
    "for chan in range(3):\n",
    "    diff = cv2.compareHist(hist_i[chan], hist_all_label[x][y][chan], cv2.HISTCMP_CORREL)\n",
    "    print(diff)\n",
    "    sum_diff += diff\n",
    "print('--------------------')\n",
    "print(sum_diff/3)\n",
    "    \n",
    "# plot histograms and show images\n",
    "plot_hist(hist_i)\n",
    "plot_hist(hist_all_label[x][y])\n",
    "\n",
    "fig, axes = plt.subplots(nrows=2, ncols=1, figsize=(5,12))\n",
    "axes[0].imshow(img_i[::,::,::-1])\n",
    "axes[1].imshow(img_all_label[x][y][::,::,::-1])\n",
    "plt.show()\n",
    "plt.close()"
   ]
  }
 ],
 "metadata": {
  "kernelspec": {
   "display_name": "Python 3",
   "language": "python",
   "name": "python3"
  },
  "language_info": {
   "codemirror_mode": {
    "name": "ipython",
    "version": 3
   },
   "file_extension": ".py",
   "mimetype": "text/x-python",
   "name": "python",
   "nbconvert_exporter": "python",
   "pygments_lexer": "ipython3",
   "version": "3.7.9"
  }
 },
 "nbformat": 4,
 "nbformat_minor": 4
}
