{
 "cells": [
  {
   "cell_type": "markdown",
   "metadata": {},
   "source": [
    "# Image segmentation"
   ]
  },
  {
   "cell_type": "code",
   "execution_count": 3,
   "metadata": {},
   "outputs": [],
   "source": [
    "import cv2\n",
    "import os\n",
    "import numpy as np\n",
    "import matplotlib.pyplot as plt"
   ]
  },
  {
   "cell_type": "code",
   "execution_count": 4,
   "metadata": {},
   "outputs": [],
   "source": [
    "image_no = 3\n",
    "bg = cv2.imread(\"img_raw/bg.png\")\n",
    "im1 = cv2.imread(f\"img_raw/{image_no}.png\")\n",
    "im1_hsv = cv2.cvtColor(im1, cv2.COLOR_BGR2HSV)\n",
    "\n",
    "(left, upper, right, lower) = (572, 271, 1330, 940)\n",
    "bg = bg[upper:lower, left:right]\n",
    "im1 = im1[upper:lower, left:right]\n",
    "im1_hsv = im1_hsv[upper:lower, left:right]\n",
    "\n",
    "bg_gray = cv2.cvtColor(bg, cv2.COLOR_BGR2GRAY)\n",
    "im1_gray = cv2.cvtColor(im1, cv2.COLOR_BGR2GRAY)"
   ]
  },
  {
   "cell_type": "code",
   "execution_count": 5,
   "metadata": {},
   "outputs": [],
   "source": [
    "a = []\n",
    "nrows = 15\n",
    "ncols = 17\n",
    "\n",
    "size = 40\n",
    "w_start = 35\n",
    "h_start = 31\n",
    "\n",
    "y_start = h_start\n",
    "for i in range(nrows):\n",
    "    if(i%2==0):\n",
    "        y_end = y_start + size\n",
    "    elif(i%2==1):\n",
    "        y_end = y_start + (size+1)\n",
    "    \n",
    "    im_row = []\n",
    "    x_start = w_start\n",
    "    for j in range(ncols):\n",
    "        if(j%2==0):\n",
    "            x_end = x_start + (size+1)\n",
    "        elif(j%2==1):\n",
    "            x_end = x_start + size\n",
    "        \n",
    "        im_to_write = im1[y_start:y_start+size, x_start:x_start+size]\n",
    "        cv2.imwrite(f\"img_proc/im_{image_no}/im_{image_no}_{i+1}_{j+1}.png\", im_to_write)\n",
    "        x_start = x_end\n",
    "        \n",
    "    a.append(im_row)\n",
    "    y_start = y_end"
   ]
  },
  {
   "cell_type": "code",
   "execution_count": 6,
   "metadata": {},
   "outputs": [],
   "source": [
    "cv2.imshow('bg',bg)\n",
    "cv2.imshow('1',im1)\n",
    "cv2.imshow('2',im1_hsv)\n",
    "cv2.waitKey(0)\n",
    "cv2.destroyAllWindows()"
   ]
  },
  {
   "cell_type": "code",
   "execution_count": 7,
   "metadata": {},
   "outputs": [],
   "source": [
    "def segmentation(image_no):\n",
    "    im1 = cv2.imread(f\"img_raw/{image_no}.png\")\n",
    "    (left, upper, right, lower) = (572, 271, 1330, 940)\n",
    "    im1 = im1[upper:lower, left:right]\n",
    "\n",
    "    a = []\n",
    "    nrows = 15\n",
    "    ncols = 17\n",
    "\n",
    "    size = 40\n",
    "    w_start = 35\n",
    "    h_start = 31\n",
    "\n",
    "    y_start = h_start\n",
    "    for i in range(nrows):\n",
    "        if(i%2==0):\n",
    "            y_end = y_start + size\n",
    "        elif(i%2==1):\n",
    "            y_end = y_start + (size+1)\n",
    "\n",
    "        im_row = []\n",
    "        x_start = w_start\n",
    "        for j in range(ncols):\n",
    "            if(j%2==0):\n",
    "                x_end = x_start + (size+1)\n",
    "            elif(j%2==1):\n",
    "                x_end = x_start + size\n",
    "\n",
    "            im_to_write = im1[y_start:y_start+size, x_start:x_start+size]\n",
    "            cv2.imwrite(f\"img_proc/im_{image_no}/im_{image_no}_{i+1}_{j+1}.png\", im_to_write)\n",
    "            x_start = x_end\n",
    "\n",
    "        a.append(im_row)\n",
    "        y_start = y_end"
   ]
  },
  {
   "cell_type": "code",
   "execution_count": 27,
   "metadata": {},
   "outputs": [],
   "source": [
    "# for i in range(3,11):\n",
    "#     segmentation(i)"
   ]
  },
  {
   "cell_type": "markdown",
   "metadata": {},
   "source": [
    "# Label the objects"
   ]
  },
  {
   "cell_type": "code",
   "execution_count": 2,
   "metadata": {},
   "outputs": [],
   "source": [
    "def plot_hist(im):\n",
    "    chans = cv2.split(im)\n",
    "    colors = (\"b\", \"g\", \"r\")\n",
    "    \n",
    "    plt.figure()\n",
    "#     plt.title(\"'Flattened' Color Histogram\")\n",
    "#     plt.xlabel(\"Bins\")\n",
    "#     plt.ylabel(\"# of Pixels\")\n",
    "    \n",
    "    hist_arr = []\n",
    "    fig, axes = plt.subplots(nrows=1, ncols=2, figsize=(15, 6))\n",
    "    \n",
    "    # loop over the image channels\n",
    "    for (chan, color) in zip(chans, colors):\n",
    "        plt.title(\"'Flattened' Color Histogram\")\n",
    "        plt.xlabel(\"Bins\")\n",
    "        plt.ylabel(\"# of Pixels\")\n",
    "        \n",
    "        hist = cv2.calcHist([chan], [0], None, [128], [0, 256])\n",
    "        norm_hist = cv2.normalize(hist, None, alpha=0, beta=1, norm_type=cv2.NORM_MINMAX, dtype=cv2.CV_32F)\n",
    "        hist_arr.append(norm_hist)\n",
    "        # plot the histogram\n",
    "        axes[0].plot(norm_hist, color = color)\n",
    "        axes[0].set_xlim([0, 128])\n",
    "    \n",
    "    axes[1].imshow(im[::,::,::-1])\n",
    "    plt.show()    \n",
    "    plt.close()\n",
    "    \n",
    "    return hist_arr"
   ]
  },
  {
   "cell_type": "code",
   "execution_count": null,
   "metadata": {},
   "outputs": [],
   "source": []
  }
 ],
 "metadata": {
  "kernelspec": {
   "display_name": "Python 3",
   "language": "python",
   "name": "python3"
  },
  "language_info": {
   "codemirror_mode": {
    "name": "ipython",
    "version": 3
   },
   "file_extension": ".py",
   "mimetype": "text/x-python",
   "name": "python",
   "nbconvert_exporter": "python",
   "pygments_lexer": "ipython3",
   "version": "3.7.8"
  }
 },
 "nbformat": 4,
 "nbformat_minor": 4
}
