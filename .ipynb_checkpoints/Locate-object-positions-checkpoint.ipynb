{
 "cells": [
  {
   "cell_type": "markdown",
   "metadata": {},
   "source": [
    "# Image segmentation"
   ]
  },
  {
   "cell_type": "code",
   "execution_count": 6,
   "metadata": {},
   "outputs": [],
   "source": [
    "import cv2\n",
    "import os\n",
    "import numpy as np\n",
    "import matplotlib.pyplot as plt"
   ]
  },
  {
   "cell_type": "code",
   "execution_count": 7,
   "metadata": {},
   "outputs": [],
   "source": [
    "def open_img(img_path):\n",
    "    img = cv2.imread(img_path)\n",
    "    \n",
    "    (left, upper, right, lower) = (572, 271, 1330, 940)\n",
    "    img_cropped = img[upper:lower, left:right]\n",
    "    \n",
    "    return img_cropped"
   ]
  },
  {
   "cell_type": "code",
   "execution_count": 8,
   "metadata": {},
   "outputs": [],
   "source": [
    "image_no = 3\n",
    "bg = open_img(\"img_raw/bg.png\")\n",
    "img1 = open_img(f\"img_raw/{image_no}.png\")\n",
    "\n",
    "bg_gray = cv2.cvtColor(bg, cv2.COLOR_BGR2GRAY)\n",
    "img1_gray = cv2.cvtColor(img1, cv2.COLOR_BGR2GRAY)"
   ]
  },
  {
   "cell_type": "code",
   "execution_count": 9,
   "metadata": {},
   "outputs": [],
   "source": [
    "img2 = open_img(f\"img_probe/2.png\")"
   ]
  },
  {
   "cell_type": "code",
   "execution_count": 10,
   "metadata": {},
   "outputs": [],
   "source": [
    "# cv2.imshow('bg',bg)\n",
    "# cv2.imshow('1',img1)\n",
    "# cv2.imshow('2',img2)\n",
    "# cv2.waitKey(0)\n",
    "# cv2.destroyAllWindows()"
   ]
  },
  {
   "cell_type": "code",
   "execution_count": 11,
   "metadata": {},
   "outputs": [],
   "source": [
    "def segmentation(image_no, in_folder, out_folder):\n",
    "    img_path = f\"{in_folder}/{image_no}.png\"\n",
    "    img1 = open_img(img_path)\n",
    "    \n",
    "    img1_sub = cv2.subtract(img1, bg)\n",
    "    img1_gray = cv2.cvtColor(img1_sub, cv2.COLOR_BGR2GRAY)\n",
    "    ret,thresh1 = cv2.threshold(img1_gray,5,255,cv2.THRESH_BINARY)\n",
    "\n",
    "    kernel = np.ones((3,3),np.uint8)\n",
    "    erosion = cv2.erode(thresh1,kernel,iterations = 2)\n",
    "    dilation = cv2.dilate(erosion,kernel,iterations = 2)\n",
    "    \n",
    "    img1_masked = cv2.bitwise_and(img1, img1, mask=dilation)\n",
    "#     cv2.imshow('ee', img1_masked)\n",
    "#     cv2.waitKey(0)\n",
    "#     cv2.destroyAllWindows()\n",
    "\n",
    "    a = []\n",
    "    nrows = 15\n",
    "    ncols = 17\n",
    "\n",
    "    size = 40\n",
    "    w_start = 35\n",
    "    h_start = 31\n",
    "\n",
    "    y_start = h_start\n",
    "    for i in range(nrows):\n",
    "        if(i%2==0):\n",
    "            y_end = y_start + size\n",
    "        elif(i%2==1):\n",
    "            y_end = y_start + (size+1)\n",
    "\n",
    "        img_row = []\n",
    "        x_start = w_start\n",
    "        for j in range(ncols):\n",
    "            if(j%2==0):\n",
    "                x_end = x_start + (size+1)\n",
    "            elif(j%2==1):\n",
    "                x_end = x_start + size\n",
    "\n",
    "            img_to_write = img1_masked[y_start:y_start+size, x_start:x_start+size]\n",
    "            \n",
    "            dir_path = f\"{out_folder}/img_{image_no}\"\n",
    "            if(not os.path.exists(dir_path)):\n",
    "                os.mkdir(dir_path)\n",
    "            \n",
    "            first_digit = str(i+1)\n",
    "            second_digit = str(j+1)\n",
    "            if(i+1<10):\n",
    "                first_digit = f\"0{first_digit}\"\n",
    "            if(j+1<10):\n",
    "                second_digit = f\"0{second_digit}\"\n",
    "\n",
    "            cv2.imwrite(f\"{dir_path}/img_{image_no}_{first_digit}_{second_digit}.png\", img_to_write)\n",
    "            img_row.append(img_to_write)\n",
    "            \n",
    "            x_start = x_end\n",
    "\n",
    "        a.append(img_row)\n",
    "        y_start = y_end\n",
    "        \n",
    "    return a"
   ]
  },
  {
   "cell_type": "code",
   "execution_count": 12,
   "metadata": {},
   "outputs": [],
   "source": [
    "# for i in range(1,11):\n",
    "#     segmentation(i, \"img_raw\", \"img_proc\")"
   ]
  },
  {
   "cell_type": "code",
   "execution_count": 13,
   "metadata": {},
   "outputs": [],
   "source": [
    "for i in range(18):\n",
    "    segmentation(i, \"img_probe\", \"img_probe\")"
   ]
  },
  {
   "cell_type": "markdown",
   "metadata": {},
   "source": [
    "# Label the objects"
   ]
  },
  {
   "cell_type": "markdown",
   "metadata": {},
   "source": [
    "## Histogram"
   ]
  },
  {
   "cell_type": "code",
   "execution_count": 14,
   "metadata": {},
   "outputs": [],
   "source": [
    "def calc_hist(img):\n",
    "    img = img[upper_t:lower_t, left_t:right_t]\n",
    "    \n",
    "    chans = cv2.split(img)\n",
    "    colors = (\"b\", \"g\", \"r\")\n",
    "    \n",
    "#     plt.figure()\n",
    "    \n",
    "    hist_arr = []\n",
    "#     fig, axes = plt.subplots(nrows=1, ncols=2, figsize=(15, 6))\n",
    "    \n",
    "    # loop over the image channels\n",
    "    for (chan, color) in zip(chans, colors):\n",
    "#         plt.title(\"'Flattened' Color Histogram\")\n",
    "#         plt.xlabel(\"Bins\")\n",
    "#         plt.ylabel(\"# of Pixels\")\n",
    "        \n",
    "        hist = cv2.calcHist([chan], [0], None, [128], [0, 256])\n",
    "        norm_hist = cv2.normalize(hist, None, alpha=0, beta=1, norm_type=cv2.NORM_MINMAX, dtype=cv2.CV_32F)\n",
    "        hist_arr.append(norm_hist)\n",
    "        \n",
    "        # plot the histogram\n",
    "#         axes[0].plot(norm_hist, color = color)\n",
    "#         axes[0].set_xlim([0, 128])\n",
    "    \n",
    "#     axes[1].imshow(img[::,::,::-1])\n",
    "#     plt.show()    \n",
    "#     plt.close()\n",
    "    \n",
    "    return hist_arr"
   ]
  },
  {
   "cell_type": "code",
   "execution_count": 15,
   "metadata": {},
   "outputs": [],
   "source": [
    "def plot_hist(hist):\n",
    "    plt.title(\"'Flattened' Color Histogram\")\n",
    "    plt.xlabel(\"Bins\")\n",
    "    plt.ylabel(\"# of Pixels\")\n",
    "    \n",
    "    chans = (0, 1, 2)\n",
    "    colors = (\"b\", \"g\", \"r\")\n",
    "    for (chan, color) in zip(chans, colors):\n",
    "        plt.plot(hist[chan], color=color)\n",
    "    \n",
    "    plt.show()\n",
    "    plt.close()"
   ]
  },
  {
   "cell_type": "markdown",
   "metadata": {},
   "source": [
    "# Fetch images"
   ]
  },
  {
   "cell_type": "code",
   "execution_count": 16,
   "metadata": {},
   "outputs": [],
   "source": [
    "labeled_folder_path = \"img_gallery\"\n",
    "labels = [str(i) for i in range(4)]\n",
    "label_str = ['BG', 'APPL', 'BODY', 'HEAD']\n",
    "n_label = int(labels[-1]) + 1\n",
    "\n",
    "(upper_t, lower_t, left_t, right_t) = (6, 34, 6, 34)"
   ]
  },
  {
   "cell_type": "markdown",
   "metadata": {},
   "source": [
    "## Labeled"
   ]
  },
  {
   "cell_type": "code",
   "execution_count": 26,
   "metadata": {},
   "outputs": [],
   "source": [
    "def calc_all_hist():\n",
    "    hist_all_label = []\n",
    "    img_all_label = []\n",
    "    \n",
    "    labeled_folder_path = \"img_gallery\"\n",
    "    labels = [str(i) for i in range(4)]\n",
    "    label_str = ['BG', 'APPL', 'BODY', 'HEAD']\n",
    "    n_label = int(labels[-1]) + 1\n",
    "    \n",
    "    for label in labels:\n",
    "        labeled_path = f\"{labeled_folder_path}/{label}/\"\n",
    "\n",
    "        hist_label = []        \n",
    "        img_label = []\n",
    "        for filename in os.listdir(labeled_path):\n",
    "#             print(labeled_path + filename)\n",
    "            img = cv2.imread(labeled_path + filename)\n",
    "            img_crp = crop_img(img)\n",
    "            \n",
    "            hist_img = calc_hist(img_crp)\n",
    "            hist_label.append(hist_img)\n",
    "            img_label.append(img_crp)\n",
    "        hist_all_label.append(hist_label)\n",
    "        img_all_label.append(img_label)\n",
    "        \n",
    "    return hist_all_label, img_all_label"
   ]
  },
  {
   "cell_type": "markdown",
   "metadata": {},
   "source": [
    "## Probe"
   ]
  },
  {
   "cell_type": "code",
   "execution_count": 18,
   "metadata": {},
   "outputs": [],
   "source": [
    "def crop_img(img):\n",
    "    (upper_t, lower_t, left_t, right_t) = (6, 34, 6, 34)\n",
    "    img = img[upper_t:lower_t, left_t:right_t]\n",
    "    \n",
    "    return img"
   ]
  },
  {
   "cell_type": "code",
   "execution_count": 19,
   "metadata": {},
   "outputs": [],
   "source": [
    "def predict_img_label(img, hist_all_label, threshold):\n",
    "    hist_img = calc_hist(img)\n",
    "    \n",
    "    matched_i = -1\n",
    "    matched_j = -1\n",
    "    max_coeff = 0\n",
    "    \n",
    "    for i in range(n_label):\n",
    "        for j in range(len(hist_all_label[i])):\n",
    "            sum_diff = 0\n",
    "            diffs = []\n",
    "            for chan in range(3):\n",
    "                diff = cv2.compareHist(hist_img[chan], hist_all_label[i][j][chan], cv2.HISTCMP_CORREL)\n",
    "                sum_diff += diff\n",
    "                diffs.append(diff)\n",
    "\n",
    "            avg_diff = sum_diff/3\n",
    "            to_print = False\n",
    "            if(avg_diff > threshold):\n",
    "                to_print = True\n",
    "                for k in range(3):\n",
    "                    if(diffs[k]<threshold):\n",
    "                        to_print = False\n",
    "\n",
    "            if(to_print):\n",
    "                if(avg_diff>max_coeff):\n",
    "                    max_coeff = avg_diff\n",
    "                    matched_i = i\n",
    "                    matched_j = j\n",
    "    \n",
    "    if(max_coeff!=0):\n",
    "        return matched_i, matched_j, max_coeff\n",
    "    \n",
    "    return 0, -1, 0"
   ]
  },
  {
   "cell_type": "code",
   "execution_count": null,
   "metadata": {},
   "outputs": [
    {
     "name": "stdout",
     "output_type": "stream",
     "text": [
      "img_gallery/0/img_1_01_01.png\n",
      "img_gallery/0/img_1_01_02.png\n",
      "img_gallery/1/img_10_13_08.png\n",
      "img_gallery/1/img_1_10_14.png\n",
      "img_gallery/1/img_2_12_04.png\n",
      "img_gallery/1/img_3_08_13.png\n",
      "img_gallery/1/img_4_06_13.png\n",
      "img_gallery/1/img_5_11_05.png\n",
      "img_gallery/1/img_6_15_08.png\n",
      "img_gallery/1/img_7_04_16.png\n",
      "img_gallery/1/img_8_13_11.png\n",
      "img_gallery/1/img_9_10_02.png\n",
      "img_gallery/2/img_10_01_10.png\n",
      "img_gallery/2/img_1_07_06.png\n",
      "img_gallery/2/img_1_07_12.png\n",
      "img_gallery/2/img_2_05_04.png\n",
      "img_gallery/2/img_2_06_04.png\n",
      "img_gallery/2/img_4_02_12.png\n",
      "img_gallery/2/img_6_05_07.png\n",
      "img_gallery/2/img_6_05_16.png\n",
      "img_gallery/2/img_7_05_06.png\n",
      "img_gallery/2/img_8_02_07.png\n",
      "img_gallery/2/img_8_02_09.png\n",
      "img_gallery/2/img_8_02_11.png\n",
      "img_gallery/2/img_8_03_06.png\n",
      "img_gallery/2/img_8_03_11.png\n",
      "img_gallery/2/img_8_04_06.png\n",
      "img_gallery/2/img_8_04_11.png\n",
      "img_gallery/2/img_8_05_11.png\n",
      "img_gallery/2/img_8_06_11.png\n",
      "img_gallery/2/img_8_07_11.png\n",
      "img_gallery/2/img_8_08_11.png\n",
      "img_gallery/2/img_8_10_11.png\n",
      "img_gallery/2/img_9_11_17.png\n",
      "img_gallery/3/img_2_07_04.png\n",
      "img_gallery/3/img_3_08_09.png\n",
      "img_gallery/3/img_4_06_12.png\n",
      "img_gallery/3/img_5_07_09.png\n",
      "img_gallery/3/img_7_05_12.png\n"
     ]
    },
    {
     "data": {
      "image/png": "[encoded data removed]",
      "text/plain": [
       "<Figure size 432x288 with 2 Axes>"
      ]
     },
     "metadata": {
      "needs_background": "light"
     },
     "output_type": "display_data"
    },
    {
     "name": "stdout",
     "output_type": "stream",
     "text": [
      "filename = img_0_02_06.png, label = APPL, i = 1, j = 7, Max coeff. = 0.9999032942372469\n",
      "----------------------------------------------------------\n"
     ]
    },
    {
     "data": {
      "image/png": "[encoded data removed]",
      "text/plain": [
       "<Figure size 432x288 with 2 Axes>"
      ]
     },
     "metadata": {
      "needs_background": "light"
     },
     "output_type": "display_data"
    },
    {
     "name": "stdout",
     "output_type": "stream",
     "text": [
      "filename = img_0_04_06.png, label = BODY, i = 2, j = 20, Max coeff. = 0.9992973887922508\n",
      "----------------------------------------------------------\n"
     ]
    },
    {
     "data": {
      "image/png": "[encoded data removed]",
      "text/plain": [
       "<Figure size 432x288 with 2 Axes>"
      ]
     },
     "metadata": {
      "needs_background": "light"
     },
     "output_type": "display_data"
    },
    {
     "name": "stdout",
     "output_type": "stream",
     "text": [
      "filename = img_0_05_06.png, label = HEAD, i = 3, j = 3, Max coeff. = 0.794231361407967\n",
      "----------------------------------------------------------\n"
     ]
    },
    {
     "data": {
      "image/png": "[encoded data removed]",
      "text/plain": [
       "<Figure size 432x288 with 2 Axes>"
      ]
     },
     "metadata": {
      "needs_background": "light"
     },
     "output_type": "display_data"
    },
    {
     "name": "stdout",
     "output_type": "stream",
     "text": [
      "filename = img_0_06_06.png, label = BODY, i = 2, j = 19, Max coeff. = 0.9290257267593754\n",
      "----------------------------------------------------------\n"
     ]
    },
    {
     "data": {
      "image/png": "[encoded data removed]",
      "text/plain": [
       "<Figure size 432x288 with 2 Axes>"
      ]
     },
     "metadata": {
      "needs_background": "light"
     },
     "output_type": "display_data"
    },
    {
     "name": "stdout",
     "output_type": "stream",
     "text": [
      "filename = img_0_07_06.png, label = BODY, i = 2, j = 18, Max coeff. = 0.9418388215831611\n",
      "----------------------------------------------------------\n"
     ]
    },
    {
     "data": {
      "image/png": "[encoded data removed]",
      "text/plain": [
       "<Figure size 432x288 with 2 Axes>"
      ]
     },
     "metadata": {
      "needs_background": "light"
     },
     "output_type": "display_data"
    },
    {
     "name": "stdout",
     "output_type": "stream",
     "text": [
      "filename = img_0_08_06.png, label = BODY, i = 2, j = 3, Max coeff. = 0.9355225666839669\n",
      "----------------------------------------------------------\n"
     ]
    },
    {
     "data": {
      "image/png": "[encoded data removed]",
      "text/plain": [
       "<Figure size 432x288 with 2 Axes>"
      ]
     },
     "metadata": {
      "needs_background": "light"
     },
     "output_type": "display_data"
    },
    {
     "name": "stdout",
     "output_type": "stream",
     "text": [
      "filename = img_0_09_06.png, label = BODY, i = 2, j = 16, Max coeff. = 0.7149144016092065\n",
      "----------------------------------------------------------\n"
     ]
    },
    {
     "data": {
      "image/png": "[encoded data removed]",
      "text/plain": [
       "<Figure size 432x288 with 2 Axes>"
      ]
     },
     "metadata": {
      "needs_background": "light"
     },
     "output_type": "display_data"
    },
    {
     "name": "stdout",
     "output_type": "stream",
     "text": [
      "filename = img_0_10_06.png, label = BODY, i = 2, j = 5, Max coeff. = 0.9332707946894274\n",
      "----------------------------------------------------------\n"
     ]
    },
    {
     "data": {
      "image/png": "[encoded data removed]",
      "text/plain": [
       "<Figure size 432x288 with 2 Axes>"
      ]
     },
     "metadata": {
      "needs_background": "light"
     },
     "output_type": "display_data"
    },
    {
     "name": "stdout",
     "output_type": "stream",
     "text": [
      "filename = img_0_10_07.png, label = BODY, i = 2, j = 13, Max coeff. = 0.46602523132616575\n",
      "----------------------------------------------------------\n"
     ]
    },
    {
     "data": {
      "image/png": "[encoded data removed]",
      "text/plain": [
       "<Figure size 432x288 with 2 Axes>"
      ]
     },
     "metadata": {
      "needs_background": "light"
     },
     "output_type": "display_data"
    },
    {
     "name": "stdout",
     "output_type": "stream",
     "text": [
      "filename = img_0_10_08.png, label = BODY, i = 2, j = 13, Max coeff. = 0.26653875708293223\n",
      "----------------------------------------------------------\n"
     ]
    },
    {
     "data": {
      "image/png": "[encoded data removed]",
      "text/plain": [
       "<Figure size 432x288 with 2 Axes>"
      ]
     },
     "metadata": {
      "needs_background": "light"
     },
     "output_type": "display_data"
    },
    {
     "name": "stdout",
     "output_type": "stream",
     "text": [
      "filename = img_0_10_09.png, label = BODY, i = 2, j = 11, Max coeff. = 0.34175777086118364\n",
      "----------------------------------------------------------\n"
     ]
    },
    {
     "data": {
      "image/png": "[encoded data removed]",
      "text/plain": [
       "<Figure size 432x288 with 2 Axes>"
      ]
     },
     "metadata": {
      "needs_background": "light"
     },
     "output_type": "display_data"
    },
    {
     "name": "stdout",
     "output_type": "stream",
     "text": [
      "filename = img_0_10_10.png, label = BODY, i = 2, j = 8, Max coeff. = 0.9387615472328436\n",
      "----------------------------------------------------------\n"
     ]
    },
    {
     "data": {
      "image/png": "[encoded data removed]",
      "text/plain": [
       "<Figure size 432x288 with 2 Axes>"
      ]
     },
     "metadata": {
      "needs_background": "light"
     },
     "output_type": "display_data"
    },
    {
     "name": "stdout",
     "output_type": "stream",
     "text": [
      "filename = img_0_10_11.png, label = BODY, i = 2, j = 10, Max coeff. = 0.47502622223063556\n",
      "----------------------------------------------------------\n"
     ]
    },
    {
     "data": {
      "image/png": "[encoded data removed]",
      "text/plain": [
       "<Figure size 432x288 with 2 Axes>"
      ]
     },
     "metadata": {
      "needs_background": "light"
     },
     "output_type": "display_data"
    },
    {
     "name": "stdout",
     "output_type": "stream",
     "text": [
      "filename = img_0_10_12.png, label = BODY, i = 2, j = 1, Max coeff. = 0.6471084152323395\n",
      "----------------------------------------------------------\n"
     ]
    },
    {
     "data": {
      "image/png": "[encoded data removed]",
      "text/plain": [
       "<Figure size 432x288 with 2 Axes>"
      ]
     },
     "metadata": {
      "needs_background": "light"
     },
     "output_type": "display_data"
    },
    {
     "name": "stdout",
     "output_type": "stream",
     "text": [
      "filename = img_0_10_13.png, label = BODY, i = 2, j = 7, Max coeff. = 0.9252308360136453\n",
      "----------------------------------------------------------\n"
     ]
    },
    {
     "data": {
      "image/png": "[encoded data removed]",
      "text/plain": [
       "<Figure size 432x288 with 2 Axes>"
      ]
     },
     "metadata": {
      "needs_background": "light"
     },
     "output_type": "display_data"
    },
    {
     "name": "stdout",
     "output_type": "stream",
     "text": [
      "filename = img_0_10_14.png, label = BODY, i = 2, j = 0, Max coeff. = 0.30422984926550983\n",
      "----------------------------------------------------------\n"
     ]
    },
    {
     "data": {
      "image/png": "[encoded data removed]",
      "text/plain": [
       "<Figure size 432x288 with 2 Axes>"
      ]
     },
     "metadata": {
      "needs_background": "light"
     },
     "output_type": "display_data"
    },
    {
     "name": "stdout",
     "output_type": "stream",
     "text": [
      "filename = img_0_10_15.png, label = BODY, i = 2, j = 12, Max coeff. = 0.9598515607968244\n",
      "----------------------------------------------------------\n",
      "========================================================================================\n"
     ]
    },
    {
     "data": {
      "image/png": "[encoded data removed]",
      "text/plain": [
       "<Figure size 432x288 with 2 Axes>"
      ]
     },
     "metadata": {
      "needs_background": "light"
     },
     "output_type": "display_data"
    },
    {
     "name": "stdout",
     "output_type": "stream",
     "text": [
      "filename = img_1_02_02.png, label = APPL, i = 1, j = 4, Max coeff. = 0.9998291341417659\n",
      "----------------------------------------------------------\n"
     ]
    },
    {
     "data": {
      "image/png": "[encoded data removed]",
      "text/plain": [
       "<Figure size 432x288 with 2 Axes>"
      ]
     },
     "metadata": {
      "needs_background": "light"
     },
     "output_type": "display_data"
    },
    {
     "name": "stdout",
     "output_type": "stream",
     "text": [
      "filename = img_1_02_03.png, label = BODY, i = 2, j = 19, Max coeff. = 0.9467829329557933\n",
      "----------------------------------------------------------\n"
     ]
    },
    {
     "data": {
      "image/png": "[encoded data removed]",
      "text/plain": [
       "<Figure size 432x288 with 2 Axes>"
      ]
     },
     "metadata": {
      "needs_background": "light"
     },
     "output_type": "display_data"
    },
    {
     "name": "stdout",
     "output_type": "stream",
     "text": [
      "filename = img_1_02_04.png, label = BODY, i = 2, j = 18, Max coeff. = 0.959586256405956\n",
      "----------------------------------------------------------\n"
     ]
    },
    {
     "data": {
      "image/png": "[encoded data removed]",
      "text/plain": [
       "<Figure size 432x288 with 2 Axes>"
      ]
     },
     "metadata": {
      "needs_background": "light"
     },
     "output_type": "display_data"
    },
    {
     "name": "stdout",
     "output_type": "stream",
     "text": [
      "filename = img_1_02_05.png, label = BODY, i = 2, j = 17, Max coeff. = 0.9408290725402094\n",
      "----------------------------------------------------------\n"
     ]
    },
    {
     "data": {
      "image/png": "[encoded data removed]",
      "text/plain": [
       "<Figure size 432x288 with 2 Axes>"
      ]
     },
     "metadata": {
      "needs_background": "light"
     },
     "output_type": "display_data"
    },
    {
     "name": "stdout",
     "output_type": "stream",
     "text": [
      "filename = img_1_03_03.png, label = HEAD, i = 3, j = 3, Max coeff. = 0.4749948922912958\n",
      "----------------------------------------------------------\n"
     ]
    },
    {
     "data": {
      "image/png": "[encoded data removed]",
      "text/plain": [
       "<Figure size 432x288 with 2 Axes>"
      ]
     },
     "metadata": {
      "needs_background": "light"
     },
     "output_type": "display_data"
    },
    {
     "name": "stdout",
     "output_type": "stream",
     "text": [
      "filename = img_1_03_05.png, label = BODY, i = 2, j = 16, Max coeff. = 0.8375658170754222\n",
      "----------------------------------------------------------\n"
     ]
    },
    {
     "data": {
      "image/png": "[encoded data removed]",
      "text/plain": [
       "<Figure size 432x288 with 2 Axes>"
      ]
     },
     "metadata": {
      "needs_background": "light"
     },
     "output_type": "display_data"
    },
    {
     "name": "stdout",
     "output_type": "stream",
     "text": [
      "filename = img_1_04_03.png, label = HEAD, i = 3, j = 2, Max coeff. = 0.9413416844901669\n",
      "----------------------------------------------------------\n"
     ]
    },
    {
     "data": {
      "image/png": "[encoded data removed]",
      "text/plain": [
       "<Figure size 432x288 with 2 Axes>"
      ]
     },
     "metadata": {
      "needs_background": "light"
     },
     "output_type": "display_data"
    },
    {
     "name": "stdout",
     "output_type": "stream",
     "text": [
      "filename = img_1_04_05.png, label = BODY, i = 2, j = 5, Max coeff. = 0.8025702536891188\n",
      "----------------------------------------------------------\n"
     ]
    },
    {
     "data": {
      "image/png": "[encoded data removed]",
      "text/plain": [
       "<Figure size 432x288 with 2 Axes>"
      ]
     },
     "metadata": {
      "needs_background": "light"
     },
     "output_type": "display_data"
    },
    {
     "name": "stdout",
     "output_type": "stream",
     "text": [
      "filename = img_1_05_05.png, label = BODY, i = 2, j = 13, Max coeff. = 0.5635828472877283\n",
      "----------------------------------------------------------\n"
     ]
    },
    {
     "data": {
      "image/png": "[encoded data removed]",
      "text/plain": [
       "<Figure size 432x288 with 2 Axes>"
      ]
     },
     "metadata": {
      "needs_background": "light"
     },
     "output_type": "display_data"
    },
    {
     "name": "stdout",
     "output_type": "stream",
     "text": [
      "filename = img_1_06_05.png, label = BODY, i = 2, j = 11, Max coeff. = 0.30492226612638856\n",
      "----------------------------------------------------------\n"
     ]
    },
    {
     "data": {
      "image/png": "[encoded data removed]",
      "text/plain": [
       "<Figure size 432x288 with 2 Axes>"
      ]
     },
     "metadata": {
      "needs_background": "light"
     },
     "output_type": "display_data"
    },
    {
     "name": "stdout",
     "output_type": "stream",
     "text": [
      "filename = img_1_07_05.png, label = BODY, i = 2, j = 11, Max coeff. = 0.3529989851584238\n",
      "----------------------------------------------------------\n"
     ]
    },
    {
     "data": {
      "image/png": "[encoded data removed]",
      "text/plain": [
       "<Figure size 432x288 with 2 Axes>"
      ]
     },
     "metadata": {
      "needs_background": "light"
     },
     "output_type": "display_data"
    },
    {
     "name": "stdout",
     "output_type": "stream",
     "text": [
      "filename = img_1_08_05.png, label = BODY, i = 2, j = 8, Max coeff. = 0.9479579045577836\n",
      "----------------------------------------------------------\n"
     ]
    },
    {
     "data": {
      "image/png": "[encoded data removed]",
      "text/plain": [
       "<Figure size 432x288 with 2 Axes>"
      ]
     },
     "metadata": {
      "needs_background": "light"
     },
     "output_type": "display_data"
    },
    {
     "name": "stdout",
     "output_type": "stream",
     "text": [
      "filename = img_1_09_06.png, label = BODY, i = 2, j = 1, Max coeff. = 0.23514100806906865\n",
      "----------------------------------------------------------\n"
     ]
    },
    {
     "data": {
      "image/png": "[encoded data removed]",
      "text/plain": [
       "<Figure size 432x288 with 2 Axes>"
      ]
     },
     "metadata": {
      "needs_background": "light"
     },
     "output_type": "display_data"
    },
    {
     "name": "stdout",
     "output_type": "stream",
     "text": [
      "filename = img_1_09_07.png, label = BODY, i = 2, j = 9, Max coeff. = 0.8658886945038579\n",
      "----------------------------------------------------------\n"
     ]
    },
    {
     "data": {
      "image/png": "[encoded data removed]",
      "text/plain": [
       "<Figure size 432x288 with 2 Axes>"
      ]
     },
     "metadata": {
      "needs_background": "light"
     },
     "output_type": "display_data"
    },
    {
     "name": "stdout",
     "output_type": "stream",
     "text": [
      "filename = img_1_09_08.png, label = BODY, i = 2, j = 0, Max coeff. = 0.9451207559048775\n",
      "----------------------------------------------------------\n"
     ]
    },
    {
     "data": {
      "image/png": "[encoded data removed]",
      "text/plain": [
       "<Figure size 432x288 with 2 Axes>"
      ]
     },
     "metadata": {
      "needs_background": "light"
     },
     "output_type": "display_data"
    },
    {
     "name": "stdout",
     "output_type": "stream",
     "text": [
      "filename = img_1_09_09.png, label = BODY, i = 2, j = 12, Max coeff. = 0.4691964125337758\n",
      "----------------------------------------------------------\n"
     ]
    },
    {
     "data": {
      "image/png": "[encoded data removed]",
      "text/plain": [
       "<Figure size 432x288 with 2 Axes>"
      ]
     },
     "metadata": {
      "needs_background": "light"
     },
     "output_type": "display_data"
    },
    {
     "name": "stdout",
     "output_type": "stream",
     "text": [
      "filename = img_1_09_10.png, label = BODY, i = 2, j = 12, Max coeff. = 0.6052918483082917\n",
      "----------------------------------------------------------\n",
      "========================================================================================\n"
     ]
    },
    {
     "data": {
      "image/png": "[encoded data removed]",
      "text/plain": [
       "<Figure size 432x288 with 2 Axes>"
      ]
     },
     "metadata": {
      "needs_background": "light"
     },
     "output_type": "display_data"
    },
    {
     "name": "stdout",
     "output_type": "stream",
     "text": [
      "filename = img_2_07_11.png, label = BODY, i = 2, j = 21, Max coeff. = 0.9786116223962332\n",
      "----------------------------------------------------------\n"
     ]
    },
    {
     "data": {
      "image/png": "[encoded data removed]",
      "text/plain": [
       "<Figure size 432x288 with 2 Axes>"
      ]
     },
     "metadata": {
      "needs_background": "light"
     },
     "output_type": "display_data"
    },
    {
     "name": "stdout",
     "output_type": "stream",
     "text": [
      "filename = img_2_08_02.png, label = BODY, i = 2, j = 15, Max coeff. = 0.854942873855325\n",
      "----------------------------------------------------------\n"
     ]
    },
    {
     "data": {
      "image/png": "[encoded data removed]",
      "text/plain": [
       "<Figure size 432x288 with 2 Axes>"
      ]
     },
     "metadata": {
      "needs_background": "light"
     },
     "output_type": "display_data"
    },
    {
     "name": "stdout",
     "output_type": "stream",
     "text": [
      "filename = img_2_08_03.png, label = BODY, i = 2, j = 13, Max coeff. = 0.935196988331865\n",
      "----------------------------------------------------------\n"
     ]
    },
    {
     "data": {
      "image/png": "[encoded data removed]",
      "text/plain": [
       "<Figure size 432x288 with 2 Axes>"
      ]
     },
     "metadata": {
      "needs_background": "light"
     },
     "output_type": "display_data"
    },
    {
     "name": "stdout",
     "output_type": "stream",
     "text": [
      "filename = img_2_08_04.png, label = BODY, i = 2, j = 11, Max coeff. = 0.7084237806741593\n",
      "----------------------------------------------------------\n"
     ]
    },
    {
     "data": {
      "image/png": "[encoded data removed]",
      "text/plain": [
       "<Figure size 432x288 with 2 Axes>"
      ]
     },
     "metadata": {
      "needs_background": "light"
     },
     "output_type": "display_data"
    },
    {
     "name": "stdout",
     "output_type": "stream",
     "text": [
      "filename = img_2_08_05.png, label = BODY, i = 2, j = 8, Max coeff. = 0.2578460006168608\n",
      "----------------------------------------------------------\n"
     ]
    },
    {
     "data": {
      "image/png": "[encoded data removed]",
      "text/plain": [
       "<Figure size 432x288 with 2 Axes>"
      ]
     },
     "metadata": {
      "needs_background": "light"
     },
     "output_type": "display_data"
    },
    {
     "name": "stdout",
     "output_type": "stream",
     "text": [
      "filename = img_2_08_06.png, label = BODY, i = 2, j = 10, Max coeff. = 0.7537408374587257\n",
      "----------------------------------------------------------\n"
     ]
    },
    {
     "data": {
      "image/png": "[encoded data removed]",
      "text/plain": [
       "<Figure size 432x288 with 2 Axes>"
      ]
     },
     "metadata": {
      "needs_background": "light"
     },
     "output_type": "display_data"
    },
    {
     "name": "stdout",
     "output_type": "stream",
     "text": [
      "filename = img_2_08_08.png, label = BODY, i = 2, j = 1, Max coeff. = 0.9599178249761611\n",
      "----------------------------------------------------------\n"
     ]
    },
    {
     "data": {
      "image/png": "[encoded data removed]",
      "text/plain": [
       "<Figure size 432x288 with 2 Axes>"
      ]
     },
     "metadata": {
      "needs_background": "light"
     },
     "output_type": "display_data"
    },
    {
     "name": "stdout",
     "output_type": "stream",
     "text": [
      "filename = img_2_08_09.png, label = BODY, i = 2, j = 7, Max coeff. = 0.8244327976201798\n",
      "----------------------------------------------------------\n"
     ]
    },
    {
     "data": {
      "image/png": "[encoded data removed]",
      "text/plain": [
       "<Figure size 432x288 with 2 Axes>"
      ]
     },
     "metadata": {
      "needs_background": "light"
     },
     "output_type": "display_data"
    },
    {
     "name": "stdout",
     "output_type": "stream",
     "text": [
      "filename = img_2_09_02.png, label = BODY, i = 2, j = 16, Max coeff. = 0.9804906967894977\n",
      "----------------------------------------------------------\n"
     ]
    },
    {
     "data": {
      "image/png": "[encoded data removed]",
      "text/plain": [
       "<Figure size 432x288 with 2 Axes>"
      ]
     },
     "metadata": {
      "needs_background": "light"
     },
     "output_type": "display_data"
    },
    {
     "name": "stdout",
     "output_type": "stream",
     "text": [
      "filename = img_2_09_10.png, label = APPL, i = 1, j = 4, Max coeff. = 0.9999211987374066\n",
      "----------------------------------------------------------\n"
     ]
    },
    {
     "data": {
      "image/png": "[encoded data removed]",
      "text/plain": [
       "<Figure size 432x288 with 2 Axes>"
      ]
     },
     "metadata": {
      "needs_background": "light"
     },
     "output_type": "display_data"
    },
    {
     "name": "stdout",
     "output_type": "stream",
     "text": [
      "filename = img_2_10_02.png, label = BODY, i = 2, j = 17, Max coeff. = 1.0\n",
      "----------------------------------------------------------\n"
     ]
    },
    {
     "data": {
      "image/png": "[encoded data removed]",
      "text/plain": [
       "<Figure size 432x288 with 2 Axes>"
      ]
     },
     "metadata": {
      "needs_background": "light"
     },
     "output_type": "display_data"
    },
    {
     "name": "stdout",
     "output_type": "stream",
     "text": [
      "filename = img_2_11_02.png, label = BODY, i = 2, j = 18, Max coeff. = 0.936585902454345\n",
      "----------------------------------------------------------\n"
     ]
    },
    {
     "data": {
      "image/png": "[encoded data removed]",
      "text/plain": [
       "<Figure size 432x288 with 2 Axes>"
      ]
     },
     "metadata": {
      "needs_background": "light"
     },
     "output_type": "display_data"
    },
    {
     "name": "stdout",
     "output_type": "stream",
     "text": [
      "filename = img_2_11_03.png, label = BODY, i = 2, j = 19, Max coeff. = 0.9061029400704957\n",
      "----------------------------------------------------------\n"
     ]
    },
    {
     "data": {
      "image/png": "[encoded data removed]",
      "text/plain": [
       "<Figure size 432x288 with 2 Axes>"
      ]
     },
     "metadata": {
      "needs_background": "light"
     },
     "output_type": "display_data"
    },
    {
     "name": "stdout",
     "output_type": "stream",
     "text": [
      "filename = img_2_11_04.png, label = HEAD, i = 3, j = 3, Max coeff. = 0.5163379480236324\n",
      "----------------------------------------------------------\n"
     ]
    },
    {
     "data": {
      "image/png": "[encoded data removed]",
      "text/plain": [
       "<Figure size 432x288 with 2 Axes>"
      ]
     },
     "metadata": {
      "needs_background": "light"
     },
     "output_type": "display_data"
    },
    {
     "name": "stdout",
     "output_type": "stream",
     "text": [
      "filename = img_2_11_05.png, label = HEAD, i = 3, j = 0, Max coeff. = 0.8110269653261994\n",
      "----------------------------------------------------------\n",
      "========================================================================================\n"
     ]
    },
    {
     "data": {
      "image/png": "[encoded data removed]",
      "text/plain": [
       "<Figure size 432x288 with 2 Axes>"
      ]
     },
     "metadata": {
      "needs_background": "light"
     },
     "output_type": "display_data"
    },
    {
     "name": "stdout",
     "output_type": "stream",
     "text": [
      "filename = img_3_02_11.png, label = BODY, i = 2, j = 8, Max coeff. = 0.5240309633566905\n",
      "----------------------------------------------------------\n"
     ]
    },
    {
     "data": {
      "image/png": "[encoded data removed]",
      "text/plain": [
       "<Figure size 432x288 with 2 Axes>"
      ]
     },
     "metadata": {
      "needs_background": "light"
     },
     "output_type": "display_data"
    },
    {
     "name": "stdout",
     "output_type": "stream",
     "text": [
      "filename = img_3_02_12.png, label = BODY, i = 2, j = 13, Max coeff. = 0.5659180299257895\n",
      "----------------------------------------------------------\n"
     ]
    },
    {
     "data": {
      "image/png": "[encoded data removed]",
      "text/plain": [
       "<Figure size 432x288 with 2 Axes>"
      ]
     },
     "metadata": {
      "needs_background": "light"
     },
     "output_type": "display_data"
    },
    {
     "name": "stdout",
     "output_type": "stream",
     "text": [
      "filename = img_3_02_13.png, label = BODY, i = 2, j = 15, Max coeff. = 0.9364262657812684\n",
      "----------------------------------------------------------\n"
     ]
    },
    {
     "data": {
      "image/png": "[encoded data removed]",
      "text/plain": [
       "<Figure size 432x288 with 2 Axes>"
      ]
     },
     "metadata": {
      "needs_background": "light"
     },
     "output_type": "display_data"
    },
    {
     "name": "stdout",
     "output_type": "stream",
     "text": [
      "filename = img_3_02_14.png, label = BODY, i = 2, j = 16, Max coeff. = 0.6097352257671734\n",
      "----------------------------------------------------------\n"
     ]
    },
    {
     "data": {
      "image/png": "[encoded data removed]",
      "text/plain": [
       "<Figure size 432x288 with 2 Axes>"
      ]
     },
     "metadata": {
      "needs_background": "light"
     },
     "output_type": "display_data"
    }
   ],
   "source": [
    "sample_folder_path = \"img_probe\"\n",
    "subfolder_path = [f\"{sample_folder_path}/img_{i}/\" for i in range(7)]\n",
    "\n",
    "threshold = 0\n",
    "hist_all_label = []\n",
    "img_all_label = []\n",
    "hist_all_label, img_all_label = calc_all_hist()\n",
    "\n",
    "for path in subfolder_path:\n",
    "    for filename in os.listdir(path):\n",
    "        img = cv2.imread(path + filename)\n",
    "        img = crop_img(img)\n",
    "        \n",
    "        img_label, img_no, max_coeff = predict_img_label(img, hist_all_label, threshold)\n",
    "        \n",
    "        if(img_label!=-1 and img_label!=0):\n",
    "            fig, axes = plt.subplots(ncols=2, nrows=1)\n",
    "            axes[0].imshow(img[::,::,::-1])\n",
    "            axes[1].imshow(img_all_label[img_label][img_no][::,::,::-1])\n",
    "            plt.show()\n",
    "            plt.close()\n",
    "            print(f\"filename = {filename}, label = {label_str[img_label]}, i = {img_label}, j = {img_no}, Max coeff. = {max_coeff}\")\n",
    "            print('----------------------------------------------------------')\n",
    "    print('========================================================================================')"
   ]
  },
  {
   "cell_type": "code",
   "execution_count": null,
   "metadata": {},
   "outputs": [],
   "source": [
    "img_no = 1\n",
    "img_filename = f\"img_{img_no}_03_03.png\"\n",
    "\n",
    "folder_path = f\"img_probe/img_{img_no}\"\n",
    "img_path = f\"{folder_path}/{img_filename}\"\n",
    "\n",
    "img_i = cv2.imread(img_path)\n",
    "img_i = img_i[upper_t:lower_t, left_t:right_t]\n",
    "\n",
    "hist_i = calc_hist(img_i)\n",
    "\n",
    "x = 2\n",
    "y = 18\n",
    "\n",
    "sum_diff = 0\n",
    "for chan in range(3):\n",
    "    diff = cv2.compareHist(hist_i[chan], hist_all_label[x][y][chan], cv2.HISTCMP_CORREL)\n",
    "    print(diff)\n",
    "    sum_diff += diff\n",
    "print('--------------------')\n",
    "print(sum_diff/3)\n",
    "    \n",
    "# plot histograms and show images\n",
    "plot_hist(hist_i)\n",
    "plot_hist(hist_all_label[x][y])\n",
    "\n",
    "fig, axes = plt.subplots(nrows=2, ncols=1, figsize=(5,12))\n",
    "axes[0].imshow(img_i[::,::,::-1])\n",
    "axes[1].imshow(img_all_label[x][y][::,::,::-1])\n",
    "plt.show()\n",
    "plt.close()"
   ]
  },
  {
   "cell_type": "markdown",
   "metadata": {},
   "source": [
    "# Evaluation**"
   ]
  },
  {
   "cell_type": "code",
   "execution_count": 5,
   "metadata": {},
   "outputs": [
    {
     "ename": "NameError",
     "evalue": "name 'calc_all_hist' is not defined",
     "output_type": "error",
     "traceback": [
      "\u001b[1;31m---------------------------------------------------------------------------\u001b[0m",
      "\u001b[1;31mNameError\u001b[0m                                 Traceback (most recent call last)",
      "\u001b[1;32m<ipython-input-5-0b84e970f162>\u001b[0m in \u001b[0;36m<module>\u001b[1;34m\u001b[0m\n\u001b[0;32m      4\u001b[0m \u001b[1;33m\u001b[0m\u001b[0m\n\u001b[0;32m      5\u001b[0m \u001b[0mthreshold\u001b[0m \u001b[1;33m=\u001b[0m \u001b[1;36m0\u001b[0m\u001b[1;33m\u001b[0m\u001b[1;33m\u001b[0m\u001b[0m\n\u001b[1;32m----> 6\u001b[1;33m \u001b[0mhist_all_label\u001b[0m\u001b[1;33m,\u001b[0m \u001b[0mimg_all_label\u001b[0m \u001b[1;33m=\u001b[0m \u001b[0mcalc_all_hist\u001b[0m\u001b[1;33m(\u001b[0m\u001b[1;33m)\u001b[0m\u001b[1;33m\u001b[0m\u001b[1;33m\u001b[0m\u001b[0m\n\u001b[0m\u001b[0;32m      7\u001b[0m \u001b[1;33m\u001b[0m\u001b[0m\n\u001b[0;32m      8\u001b[0m \u001b[1;31m# array of labels\u001b[0m\u001b[1;33m\u001b[0m\u001b[1;33m\u001b[0m\u001b[1;33m\u001b[0m\u001b[0m\n",
      "\u001b[1;31mNameError\u001b[0m: name 'calc_all_hist' is not defined"
     ]
    }
   ],
   "source": [
    "folder_path = \"img_probe_labeled\"\n",
    "labels = [str(i) for i in range(4)]\n",
    "label_str = ['BG', 'APPL', 'BODY', 'HEAD']\n",
    "\n",
    "threshold = 0\n",
    "hist_all_label, img_all_label = calc_all_hist()\n",
    "\n",
    "# array of labels\n",
    "predicted = []\n",
    "ground_truth = []\n",
    "\n",
    "for label in labels:\n",
    "    probe_folder_path = f\"{folder_path}/{label}/\"\n",
    "    for filename in os.listdir(probe_folder_path):\n",
    "        img = cv2.imread(probe_folder_path + filename)\n",
    "        img = crop_img(img)\n",
    "        img_label, img_no, coeff = predict_img_label(img, hist_all_label, threshold)\n",
    "        \n",
    "        ground_truth.append(int(label))\n",
    "        predicted.append(img_label)"
   ]
  },
  {
   "cell_type": "markdown",
   "metadata": {},
   "source": [
    "## Confusion Matrix"
   ]
  },
  {
   "cell_type": "code",
   "execution_count": 16,
   "metadata": {},
   "outputs": [],
   "source": [
    "import itertools\n",
    "from sklearn.metrics import confusion_matrix\n",
    "from sklearn.metrics import classification_report"
   ]
  },
  {
   "cell_type": "code",
   "execution_count": 17,
   "metadata": {},
   "outputs": [],
   "source": [
    "def plot_confusion_matrix(cm, classes,\n",
    "                          normalize=False,\n",
    "                          title='Confusion matrix',\n",
    "                          cmap=plt.cm.Blues):\n",
    "    \"\"\"\n",
    "    This function prints and plots the confusion matrix.\n",
    "    Normalization can be applied by setting `normalize=True`.\n",
    "    \"\"\"\n",
    "    if normalize:\n",
    "        cm = cm.astype('float') / cm.sum(axis=1)[:, np.newaxis]\n",
    "#         print(\"Normalized confusion matrix\")\n",
    "#     else:\n",
    "#         print('Confusion matrix, without normalization')\n",
    "\n",
    "#     print(cm)\n",
    "\n",
    "    plt.imshow(cm, interpolation='nearest', cmap=cmap)\n",
    "    plt.title(title)\n",
    "    plt.colorbar()\n",
    "    tick_marks = np.arange(len(classes))\n",
    "    plt.xticks(tick_marks, classes, rotation=45)\n",
    "    plt.yticks(tick_marks, classes)\n",
    "\n",
    "    fmt = '.2f' if normalize else 'd'\n",
    "    thresh = cm.max() / 2.\n",
    "    for i, j in itertools.product(range(cm.shape[0]), range(cm.shape[1])):\n",
    "        plt.text(j, i, format(cm[i, j], fmt),\n",
    "                 horizontalalignment=\"center\",\n",
    "                 color=\"white\" if cm[i, j] > thresh else \"black\")\n",
    "\n",
    "    plt.ylabel('True label')\n",
    "    plt.xlabel('Predicted label')\n",
    "    plt.tight_layout()"
   ]
  },
  {
   "cell_type": "code",
   "execution_count": 18,
   "metadata": {},
   "outputs": [],
   "source": [
    "def show_conf_matrix(y_test, y_pred, labels):\n",
    "    # Compute confusion matrix\n",
    "    cnf_matrix = confusion_matrix(y_test, y_pred)\n",
    "    np.set_printoptions(precision=2)\n",
    "\n",
    "    # Plot non-normalized confusion matrix\n",
    "    plt.figure()\n",
    "    plot_confusion_matrix(cnf_matrix, classes=labels,\n",
    "                          title='Confusion matrix, without normalization')\n",
    "\n",
    "    # Plot normalized confusion matrix\n",
    "    plt.figure()\n",
    "    plot_confusion_matrix(cnf_matrix, classes=labels, normalize=True,\n",
    "                          title='Normalized confusion matrix')\n",
    "\n",
    "    plt.show()"
   ]
  },
  {
   "cell_type": "code",
   "execution_count": 19,
   "metadata": {},
   "outputs": [],
   "source": [
    "def show_clf_report(y_test, y_pred, labels):\n",
    "    print(classification_report(y_test, y_pred, target_names=labels))"
   ]
  },
  {
   "cell_type": "code",
   "execution_count": 33,
   "metadata": {},
   "outputs": [
    {
     "data": {
      "image/png": "[encoded data removed]",
      "text/plain": [
       "<Figure size 432x288 with 2 Axes>"
      ]
     },
     "metadata": {
      "needs_background": "light"
     },
     "output_type": "display_data"
    },
    {
     "data": {
      "image/png": "[encoded data removed]",
      "text/plain": [
       "<Figure size 432x288 with 2 Axes>"
      ]
     },
     "metadata": {
      "needs_background": "light"
     },
     "output_type": "display_data"
    },
    {
     "name": "stdout",
     "output_type": "stream",
     "text": [
      "              precision    recall  f1-score   support\n",
      "\n",
      "          BG       0.99      1.00      0.99      1691\n",
      "        APPL       1.00      0.94      0.97        18\n",
      "        BODY       0.98      0.92      0.95       231\n",
      "        HEAD       0.88      0.69      0.77        32\n",
      "\n",
      "    accuracy                           0.99      1972\n",
      "   macro avg       0.96      0.89      0.92      1972\n",
      "weighted avg       0.98      0.99      0.98      1972\n",
      "\n"
     ]
    }
   ],
   "source": [
    "show_conf_matrix(ground_truth, predicted, label_str)\n",
    "show_clf_report(ground_truth, predicted, label_str)"
   ]
  }
 ],
 "metadata": {
  "kernelspec": {
   "display_name": "Python 3",
   "language": "python",
   "name": "python3"
  },
  "language_info": {
   "codemirror_mode": {
    "name": "ipython",
    "version": 3
   },
   "file_extension": ".py",
   "mimetype": "text/x-python",
   "name": "python",
   "nbconvert_exporter": "python",
   "pygments_lexer": "ipython3",
   "version": "3.7.9"
  }
 },
 "nbformat": 4,
 "nbformat_minor": 4
}
