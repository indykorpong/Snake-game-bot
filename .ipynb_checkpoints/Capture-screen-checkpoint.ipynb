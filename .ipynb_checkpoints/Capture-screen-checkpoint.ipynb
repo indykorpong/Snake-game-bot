{
 "cells": [
  {
   "cell_type": "code",
   "execution_count": 1,
   "metadata": {},
   "outputs": [],
   "source": [
    "import cv2\n",
    "import time\n",
    "import numpy as np\n",
    "\n",
    "from mss import mss\n",
    "from concurrent.futures import ThreadPoolExecutor"
   ]
  },
  {
   "cell_type": "code",
   "execution_count": 38,
   "metadata": {},
   "outputs": [],
   "source": [
    "# find the optimal path and control the snake to move along the path\n",
    "def pathfinding(img):\n",
    "    threshold = 0\n",
    "    cells, head_pos = get_cells(img, Label, threshold)\n",
    "    \n",
    "    if(head_pos is None):\n",
    "        return None\n",
    "    \n",
    "    cm_pos = center_of_mass(cells, nrows, ncols)\n",
    "#     min_body_pos = find_min_max_body_pos(cells, nrows, ncols, True)\n",
    "#     max_body_pos = find_min_max_body_pos(cells, nrows, ncols, False)\n",
    "\n",
    "    new_cells, path = find_optimal_path(cells, head_pos, [cm_pos], [0])\n",
    "    if(new_cells is None):\n",
    "        return None\n",
    "\n",
    "#     time.sleep(3)\n",
    "#     print(new_cells)\n",
    "    print(\"=============================\")\n",
    "    \n",
    "    return path"
   ]
  },
  {
   "cell_type": "code",
   "execution_count": 4,
   "metadata": {},
   "outputs": [],
   "source": [
    "# detect game over\n",
    "def game_over(img):\n",
    "    (left, top, right, bottom) = (453, 436, 533, 515)\n",
    "    img_crp = img[top:bottom, left:right]\n",
    "    \n",
    "    img_score_path = 'img_raw/gameover.png'\n",
    "    img_score_full = cv2.imread(img_score_path)\n",
    "    img_score = img_score_full[top:bottom, left:right]\n",
    "    \n",
    "    hist_crp = calc_hist(img_crp)\n",
    "    hist_score = calc_hist(img_score)\n",
    "    \n",
    "    sum_diff = 0\n",
    "    for chan in range(3):\n",
    "        diff = cv2.compareHist(hist_crp[chan], hist_score[chan], cv2.HISTCMP_CORREL)\n",
    "        sum_diff += diff\n",
    "    \n",
    "    avg_diff = sum_diff/3\n",
    "    if(avg_diff>0.9):\n",
    "        return True\n",
    "    \n",
    "    return False"
   ]
  },
  {
   "cell_type": "code",
   "execution_count": 5,
   "metadata": {},
   "outputs": [],
   "source": [
    "def screenshot():\n",
    "    start_time = time.perf_counter()\n",
    "    \n",
    "    field_width = 688\n",
    "    field_height = 608\n",
    "    field_left = 607\n",
    "    field_top = 302\n",
    "    \n",
    "    with mss() as sct:        \n",
    "        monitor_number = 1\n",
    "        mon = sct.monitors[monitor_number]\n",
    "        monitor = {'mon': monitor_number, 'width': field_width, 'height': field_height, 'left': mon[\"left\"] + field_left, 'top': mon[\"top\"] + field_top}\n",
    "\n",
    "        sct_img = sct.grab(monitor)\n",
    "        img = np.array(sct_img.pixels).astype(np.uint8)[::,::,::-1]\n",
    "        \n",
    "        duration = time.perf_counter() - start_time\n",
    "        \n",
    "        return img, duration"
   ]
  },
  {
   "cell_type": "markdown",
   "metadata": {},
   "source": [
    "# Without concurrency"
   ]
  },
  {
   "cell_type": "code",
   "execution_count": 6,
   "metadata": {},
   "outputs": [],
   "source": [
    "def main():    \n",
    "    while(True):\n",
    "        start_time = time.time()\n",
    "        img_ret = screenshot()\n",
    "        path = pathfinding(img_ret)\n",
    "\n",
    "        # check whether the game is over\n",
    "        gameover = game_over(img_ret)\n",
    "        if(gameover):\n",
    "            print(\"game over\")\n",
    "            break\n",
    "        \n",
    "        duration = time.time() - start_time\n",
    "        print(duration)\n",
    "        \n",
    "        # control the snake to follow the path\n",
    "#         if(not path is None):\n",
    "#             for p in path:\n",
    "#                 print(p.x, p.y)"
   ]
  },
  {
   "cell_type": "markdown",
   "metadata": {},
   "source": [
    "#  With concurrency"
   ]
  },
  {
   "cell_type": "code",
   "execution_count": 30,
   "metadata": {},
   "outputs": [],
   "source": [
    "def main2():    \n",
    "    capture_time_interval = 1\n",
    "    with ThreadPoolExecutor() as executor:\n",
    "        while(True):\n",
    "            start_time = time.time()\n",
    "            future = executor.submit(screenshot)\n",
    "            future2 = executor.submit(pathfinding, future.result()[0])\n",
    "\n",
    "            exec_time = future.result()[1]\n",
    "            if(exec_time < capture_time_interval):\n",
    "                time.sleep(capture_time_interval - exec_time)\n",
    "\n",
    "            # check whether the game is over\n",
    "            gameover = game_over(future.result()[0])\n",
    "            if(gameover):\n",
    "                print(\"game over\")\n",
    "                break\n",
    "\n",
    "            elapse_time = time.time() - start_time\n",
    "            print(elapse_time)"
   ]
  },
  {
   "cell_type": "code",
   "execution_count": 31,
   "metadata": {},
   "outputs": [],
   "source": [
    "%run Pathfinding.ipynb\n",
    "%run astar.ipynb"
   ]
  },
  {
   "cell_type": "code",
   "execution_count": 37,
   "metadata": {
    "scrolled": true
   },
   "outputs": [
    {
     "name": "stdout",
     "output_type": "stream",
     "text": [
      "1.039039134979248\n",
      "1.0171165466308594\n",
      "1.0215339660644531\n",
      "=============================\n",
      "1.018949031829834\n",
      "=============================\n",
      "1.0188062191009521\n",
      "=============================\n",
      "1.0291204452514648\n",
      "=============================\n",
      "1.0292949676513672\n",
      "=============================\n",
      "1.0174319744110107\n",
      "=============================\n",
      "1.020716667175293\n",
      "=============================\n",
      "1.028512954711914\n",
      "=============================\n",
      "1.0194270610809326\n",
      "=============================\n",
      "1.0173578262329102\n",
      "=============================\n",
      "1.0150189399719238\n",
      "=============================\n",
      "1.0301761627197266\n",
      "=============================\n",
      "=============================\n",
      "=============================\n"
     ]
    },
    {
     "ename": "KeyboardInterrupt",
     "evalue": "",
     "output_type": "error",
     "traceback": [
      "\u001b[1;31m---------------------------------------------------------------------------\u001b[0m",
      "\u001b[1;31mKeyboardInterrupt\u001b[0m                         Traceback (most recent call last)",
      "\u001b[1;32m<ipython-input-37-9fde456d88c4>\u001b[0m in \u001b[0;36m<module>\u001b[1;34m\u001b[0m\n\u001b[1;32m----> 1\u001b[1;33m \u001b[0mmain2\u001b[0m\u001b[1;33m(\u001b[0m\u001b[1;33m)\u001b[0m\u001b[1;33m\u001b[0m\u001b[1;33m\u001b[0m\u001b[0m\n\u001b[0m",
      "\u001b[1;32m<ipython-input-30-cc82852913fc>\u001b[0m in \u001b[0;36mmain2\u001b[1;34m()\u001b[0m\n\u001b[0;32m      5\u001b[0m             \u001b[0mstart_time\u001b[0m \u001b[1;33m=\u001b[0m \u001b[0mtime\u001b[0m\u001b[1;33m.\u001b[0m\u001b[0mtime\u001b[0m\u001b[1;33m(\u001b[0m\u001b[1;33m)\u001b[0m\u001b[1;33m\u001b[0m\u001b[1;33m\u001b[0m\u001b[0m\n\u001b[0;32m      6\u001b[0m             \u001b[0mfuture\u001b[0m \u001b[1;33m=\u001b[0m \u001b[0mexecutor\u001b[0m\u001b[1;33m.\u001b[0m\u001b[0msubmit\u001b[0m\u001b[1;33m(\u001b[0m\u001b[0mscreenshot\u001b[0m\u001b[1;33m)\u001b[0m\u001b[1;33m\u001b[0m\u001b[1;33m\u001b[0m\u001b[0m\n\u001b[1;32m----> 7\u001b[1;33m             \u001b[0mfuture2\u001b[0m \u001b[1;33m=\u001b[0m \u001b[0mexecutor\u001b[0m\u001b[1;33m.\u001b[0m\u001b[0msubmit\u001b[0m\u001b[1;33m(\u001b[0m\u001b[0mpathfinding\u001b[0m\u001b[1;33m,\u001b[0m \u001b[0mfuture\u001b[0m\u001b[1;33m.\u001b[0m\u001b[0mresult\u001b[0m\u001b[1;33m(\u001b[0m\u001b[1;33m)\u001b[0m\u001b[1;33m[\u001b[0m\u001b[1;36m0\u001b[0m\u001b[1;33m]\u001b[0m\u001b[1;33m)\u001b[0m\u001b[1;33m\u001b[0m\u001b[1;33m\u001b[0m\u001b[0m\n\u001b[0m\u001b[0;32m      8\u001b[0m \u001b[1;33m\u001b[0m\u001b[0m\n\u001b[0;32m      9\u001b[0m             \u001b[0mexec_time\u001b[0m \u001b[1;33m=\u001b[0m \u001b[0mfuture\u001b[0m\u001b[1;33m.\u001b[0m\u001b[0mresult\u001b[0m\u001b[1;33m(\u001b[0m\u001b[1;33m)\u001b[0m\u001b[1;33m[\u001b[0m\u001b[1;36m1\u001b[0m\u001b[1;33m]\u001b[0m\u001b[1;33m\u001b[0m\u001b[1;33m\u001b[0m\u001b[0m\n",
      "\u001b[1;32mc:\\python37\\lib\\concurrent\\futures\\_base.py\u001b[0m in \u001b[0;36mresult\u001b[1;34m(self, timeout)\u001b[0m\n\u001b[0;32m    428\u001b[0m                 \u001b[1;32mreturn\u001b[0m \u001b[0mself\u001b[0m\u001b[1;33m.\u001b[0m\u001b[0m__get_result\u001b[0m\u001b[1;33m(\u001b[0m\u001b[1;33m)\u001b[0m\u001b[1;33m\u001b[0m\u001b[1;33m\u001b[0m\u001b[0m\n\u001b[0;32m    429\u001b[0m \u001b[1;33m\u001b[0m\u001b[0m\n\u001b[1;32m--> 430\u001b[1;33m             \u001b[0mself\u001b[0m\u001b[1;33m.\u001b[0m\u001b[0m_condition\u001b[0m\u001b[1;33m.\u001b[0m\u001b[0mwait\u001b[0m\u001b[1;33m(\u001b[0m\u001b[0mtimeout\u001b[0m\u001b[1;33m)\u001b[0m\u001b[1;33m\u001b[0m\u001b[1;33m\u001b[0m\u001b[0m\n\u001b[0m\u001b[0;32m    431\u001b[0m \u001b[1;33m\u001b[0m\u001b[0m\n\u001b[0;32m    432\u001b[0m             \u001b[1;32mif\u001b[0m \u001b[0mself\u001b[0m\u001b[1;33m.\u001b[0m\u001b[0m_state\u001b[0m \u001b[1;32min\u001b[0m \u001b[1;33m[\u001b[0m\u001b[0mCANCELLED\u001b[0m\u001b[1;33m,\u001b[0m \u001b[0mCANCELLED_AND_NOTIFIED\u001b[0m\u001b[1;33m]\u001b[0m\u001b[1;33m:\u001b[0m\u001b[1;33m\u001b[0m\u001b[1;33m\u001b[0m\u001b[0m\n",
      "\u001b[1;32mc:\\python37\\lib\\threading.py\u001b[0m in \u001b[0;36mwait\u001b[1;34m(self, timeout)\u001b[0m\n\u001b[0;32m    294\u001b[0m         \u001b[1;32mtry\u001b[0m\u001b[1;33m:\u001b[0m    \u001b[1;31m# restore state no matter what (e.g., KeyboardInterrupt)\u001b[0m\u001b[1;33m\u001b[0m\u001b[1;33m\u001b[0m\u001b[0m\n\u001b[0;32m    295\u001b[0m             \u001b[1;32mif\u001b[0m \u001b[0mtimeout\u001b[0m \u001b[1;32mis\u001b[0m \u001b[1;32mNone\u001b[0m\u001b[1;33m:\u001b[0m\u001b[1;33m\u001b[0m\u001b[1;33m\u001b[0m\u001b[0m\n\u001b[1;32m--> 296\u001b[1;33m                 \u001b[0mwaiter\u001b[0m\u001b[1;33m.\u001b[0m\u001b[0macquire\u001b[0m\u001b[1;33m(\u001b[0m\u001b[1;33m)\u001b[0m\u001b[1;33m\u001b[0m\u001b[1;33m\u001b[0m\u001b[0m\n\u001b[0m\u001b[0;32m    297\u001b[0m                 \u001b[0mgotit\u001b[0m \u001b[1;33m=\u001b[0m \u001b[1;32mTrue\u001b[0m\u001b[1;33m\u001b[0m\u001b[1;33m\u001b[0m\u001b[0m\n\u001b[0;32m    298\u001b[0m             \u001b[1;32melse\u001b[0m\u001b[1;33m:\u001b[0m\u001b[1;33m\u001b[0m\u001b[1;33m\u001b[0m\u001b[0m\n",
      "\u001b[1;31mKeyboardInterrupt\u001b[0m: "
     ]
    }
   ],
   "source": [
    "main2()"
   ]
  },
  {
   "cell_type": "code",
   "execution_count": null,
   "metadata": {},
   "outputs": [],
   "source": []
  }
 ],
 "metadata": {
  "kernelspec": {
   "display_name": "Python 3",
   "language": "python",
   "name": "python3"
  },
  "language_info": {
   "codemirror_mode": {
    "name": "ipython",
    "version": 3
   },
   "file_extension": ".py",
   "mimetype": "text/x-python",
   "name": "python",
   "nbconvert_exporter": "python",
   "pygments_lexer": "ipython3",
   "version": "3.7.9"
  }
 },
 "nbformat": 4,
 "nbformat_minor": 4
}
