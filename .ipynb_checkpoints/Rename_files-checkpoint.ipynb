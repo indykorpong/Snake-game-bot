{
 "cells": [
  {
   "cell_type": "code",
   "execution_count": 2,
   "metadata": {},
   "outputs": [],
   "source": [
    "import os"
   ]
  },
  {
   "cell_type": "code",
   "execution_count": 5,
   "metadata": {},
   "outputs": [],
   "source": [
    "folder_path = \"D:/coding/Snake-game-bot/img_raw\"\n",
    "i = 1\n",
    "for filename in os.listdir(folder_path):\n",
    "    img_path = f\"{folder_path}/{filename}\"\n",
    "    img_path_new = f\"{folder_path}/{i}.png\"\n",
    "    i += 1\n",
    "    os.rename(img_path, img_path_new)"
   ]
  }
 ],
 "metadata": {
  "kernelspec": {
   "display_name": "Python 3",
   "language": "python",
   "name": "python3"
  },
  "language_info": {
   "codemirror_mode": {
    "name": "ipython",
    "version": 3
   },
   "file_extension": ".py",
   "mimetype": "text/x-python",
   "name": "python",
   "nbconvert_exporter": "python",
   "pygments_lexer": "ipython3",
   "version": "3.7.9"
  }
 },
 "nbformat": 4,
 "nbformat_minor": 4
}
