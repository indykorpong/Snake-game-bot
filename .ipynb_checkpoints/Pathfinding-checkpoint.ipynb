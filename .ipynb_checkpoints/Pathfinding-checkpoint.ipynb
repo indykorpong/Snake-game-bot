{
 "cells": [
  {
   "cell_type": "code",
   "execution_count": 2,
   "metadata": {},
   "outputs": [],
   "source": [
    "%run python-astar/src/astar.py"
   ]
  },
  {
   "cell_type": "code",
   "execution_count": 3,
   "metadata": {},
   "outputs": [],
   "source": [
    "import numpy as np\n",
    "import matplotlib.pyplot as plt\n",
    "\n",
    "import cv2\n",
    "import os\n",
    "import time\n",
    "import pyautogui"
   ]
  },
  {
   "cell_type": "code",
   "execution_count": 4,
   "metadata": {},
   "outputs": [],
   "source": [
    "def open_img(img_path):\n",
    "    img = cv2.imread(img_path)\n",
    "    \n",
    "    (left, upper, right, lower) = (572, 271, 1330, 940)\n",
    "    img_cropped = img[upper:lower, left:right]\n",
    "    \n",
    "    return img_cropped"
   ]
  },
  {
   "cell_type": "code",
   "execution_count": 5,
   "metadata": {},
   "outputs": [],
   "source": [
    "def crop_img(img):\n",
    "    (upper_t, lower_t, left_t, right_t) = (6, 34, 6, 34)\n",
    "    img = img[upper_t:lower_t, left_t:right_t]\n",
    "    \n",
    "    return img"
   ]
  },
  {
   "cell_type": "code",
   "execution_count": 6,
   "metadata": {},
   "outputs": [],
   "source": [
    "def show_img(img):\n",
    "    cv2.imshow('windows',img)\n",
    "    cv2.waitKey(0)\n",
    "    cv2.destroyAllWindows()"
   ]
  },
  {
   "cell_type": "code",
   "execution_count": 7,
   "metadata": {},
   "outputs": [],
   "source": [
    "def calc_hist(img):\n",
    "    img = crop_img(img)\n",
    "    \n",
    "    chans = cv2.split(img)\n",
    "    colors = (\"b\", \"g\", \"r\")\n",
    "    \n",
    "    hist_arr = []\n",
    "    \n",
    "    # loop over the image channels\n",
    "    for (chan, color) in zip(chans, colors):        \n",
    "        hist = cv2.calcHist([chan], [0], None, [128], [0, 256])\n",
    "        norm_hist = cv2.normalize(hist, None, alpha=0, beta=1, norm_type=cv2.NORM_MINMAX, dtype=cv2.CV_32F)\n",
    "        hist_arr.append(norm_hist)\n",
    "    \n",
    "    return hist_arr"
   ]
  },
  {
   "cell_type": "code",
   "execution_count": 8,
   "metadata": {},
   "outputs": [],
   "source": [
    "def calc_all_hist():\n",
    "    hist_all_label = []\n",
    "    img_all_label = []\n",
    "    \n",
    "    labeled_folder_path = \"img_gallery\"\n",
    "    labels = [str(i) for i in range(4)]\n",
    "    label_str = ['BG', 'APPL', 'BODY', 'HEAD']\n",
    "    n_label = int(labels[-1]) + 1\n",
    "    \n",
    "    for label in labels:\n",
    "        labeled_path = f\"{labeled_folder_path}/{label}/\"\n",
    "\n",
    "        hist_label = []        \n",
    "        img_label = []\n",
    "        for filename in os.listdir(labeled_path):\n",
    "#             print(labeled_path + filename)\n",
    "            img = cv2.imread(labeled_path + filename)\n",
    "            img_crp = crop_img(img)\n",
    "            \n",
    "            hist_img = calc_hist(img_crp)\n",
    "            hist_label.append(hist_img)\n",
    "            img_label.append(img_crp)\n",
    "        hist_all_label.append(hist_label)\n",
    "        img_all_label.append(img_label)\n",
    "        \n",
    "    return hist_all_label, img_all_label"
   ]
  },
  {
   "cell_type": "code",
   "execution_count": 10,
   "metadata": {},
   "outputs": [],
   "source": [
    "def preprocessing(img):\n",
    "    bg = open_img(\"img_raw/bg.png\")\n",
    "    \n",
    "    # background subtraction\n",
    "    img_sub = cv2.subtract(img, bg)\n",
    "    \n",
    "    # masking the image with the background\n",
    "    img_gray = cv2.cvtColor(img_sub, cv2.COLOR_BGR2GRAY)\n",
    "    ret,thresh1 = cv2.threshold(img_gray,5,255,cv2.THRESH_BINARY)\n",
    "\n",
    "    kernel = np.ones((3,3),np.uint8)\n",
    "    erosion = cv2.erode(thresh1,kernel,iterations = 2)\n",
    "    dilation = cv2.dilate(erosion,kernel,iterations = 2)\n",
    "    \n",
    "    img_masked = cv2.bitwise_and(img, img, mask=dilation)\n",
    "    \n",
    "    return img_masked"
   ]
  },
  {
   "cell_type": "code",
   "execution_count": 11,
   "metadata": {},
   "outputs": [],
   "source": [
    "def separate_img_to_tiles(img):\n",
    "    nrows = 15\n",
    "    ncols = 17\n",
    "    img_tiles = []\n",
    "\n",
    "    size = 40\n",
    "    w_start = 35\n",
    "    h_start = 31\n",
    "\n",
    "    y_start = h_start\n",
    "    for i in range(nrows):\n",
    "        if(i%2==0):\n",
    "            y_end = y_start + size\n",
    "        elif(i%2==1):\n",
    "            y_end = y_start + (size+1)\n",
    "\n",
    "        img_row = []\n",
    "        x_start = w_start\n",
    "        for j in range(ncols):\n",
    "            if(j%2==0):\n",
    "                x_end = x_start + (size+1)\n",
    "            elif(j%2==1):\n",
    "                x_end = x_start + size\n",
    "            \n",
    "            img_i = img[y_start:y_start+size, x_start:x_start+size]\n",
    "            img_row.append(img_i)\n",
    "            \n",
    "            x_start = x_end\n",
    "            \n",
    "        img_tiles.append(img_row)\n",
    "        y_start = y_end\n",
    "    \n",
    "    return img_tiles"
   ]
  },
  {
   "cell_type": "code",
   "execution_count": 9,
   "metadata": {},
   "outputs": [],
   "source": [
    "def predict_img_label(img, hist_all_label, threshold):\n",
    "    hist_img = calc_hist(img)\n",
    "    \n",
    "    matched_i = -1\n",
    "    matched_j = -1\n",
    "    max_coeff = 0\n",
    "    \n",
    "    for i in range(n_label):\n",
    "        for j in range(len(hist_all_label[i])):\n",
    "            sum_diff = 0\n",
    "            diffs = []\n",
    "            for chan in range(3):\n",
    "                diff = cv2.compareHist(hist_img[chan], hist_all_label[i][j][chan], cv2.HISTCMP_CORREL)\n",
    "                sum_diff += diff\n",
    "                diffs.append(diff)\n",
    "\n",
    "            avg_diff = sum_diff/3\n",
    "            to_print = False\n",
    "            if(avg_diff > threshold):\n",
    "                to_print = True\n",
    "                for k in range(3):\n",
    "                    if(diffs[k]<threshold):\n",
    "                        to_print = False\n",
    "\n",
    "            if(to_print):\n",
    "                if(avg_diff>max_coeff):\n",
    "                    max_coeff = avg_diff\n",
    "                    matched_i = i\n",
    "                    matched_j = j\n",
    "    \n",
    "    if(max_coeff!=0):\n",
    "        return matched_i, matched_j, max_coeff\n",
    "    \n",
    "    return 0, -1, 0"
   ]
  },
  {
   "cell_type": "code",
   "execution_count": 16,
   "metadata": {},
   "outputs": [
    {
     "name": "stdout",
     "output_type": "stream",
     "text": [
      "[[0 0 0 0 0 0 0 0 0 0 0 0 0 0 0 0 0]\n",
      " [0 0 0 0 0 0 0 0 0 0 0 0 0 0 0 0 0]\n",
      " [0 0 0 0 0 0 0 0 0 0 0 0 0 0 0 0 0]\n",
      " [0 0 0 0 0 0 0 0 0 0 0 0 1 0 0 0 0]\n",
      " [0 0 0 0 0 0 0 0 0 2 2 2 0 0 2 0 0]\n",
      " [0 0 0 0 0 0 0 0 0 0 0 0 0 0 2 0 0]\n",
      " [0 0 0 0 0 0 0 0 0 0 0 0 0 0 2 0 0]\n",
      " [0 0 0 0 0 0 0 0 0 0 0 0 0 0 2 0 0]\n",
      " [0 0 0 0 0 0 0 0 0 0 0 0 0 0 2 0 0]\n",
      " [0 0 0 0 0 0 0 0 0 0 0 0 0 0 2 0 0]\n",
      " [0 0 0 0 0 0 2 2 2 2 2 2 2 2 0 0 0]\n",
      " [0 0 0 0 0 0 2 0 0 0 0 0 0 0 0 0 0]\n",
      " [0 0 0 0 0 0 2 0 0 0 0 0 0 0 0 0 0]\n",
      " [0 0 0 0 3 2 2 0 0 0 0 0 0 0 0 0 0]\n",
      " [0 0 0 0 0 0 0 0 0 0 0 0 0 0 0 0 0]]\n"
     ]
    }
   ],
   "source": [
    "folder_path = \"img_probe\"\n",
    "img_path = f\"{folder_path}/17.png\"\n",
    "\n",
    "img = open_img(img_path) \n",
    "img_p = preprocessing(img)\n",
    "img_tiles = separate_img_to_tiles(img_p)\n",
    "\n",
    "hist_all_label, _ = calc_all_hist()\n",
    "threshold = 0\n",
    "\n",
    "nrows = 15\n",
    "ncols = 17\n",
    "n_label = 4\n",
    "\n",
    "cells = np.zeros((nrows, ncols), dtype=np.int8)\n",
    "for i in range(nrows):\n",
    "    for j in range(ncols):\n",
    "        cells[i,j], img_no, coeff = predict_img_label(img_tiles[i][j], hist_all_label, threshold)\n",
    "        \n",
    "print(cells)"
   ]
  },
  {
   "cell_type": "markdown",
   "metadata": {},
   "source": [
    "# A-star"
   ]
  },
  {
   "cell_type": "code",
   "execution_count": 29,
   "metadata": {},
   "outputs": [],
   "source": [
    "class Position:\n",
    "    def __init__(self, y, x):\n",
    "        self.y = y\n",
    "        self.x = x"
   ]
  },
  {
   "cell_type": "code",
   "execution_count": 30,
   "metadata": {},
   "outputs": [],
   "source": [
    "def neighbors(pos):\n",
    "    neighbor_list = []\n",
    "    offsets = [(-1,0),(1,0),(0,-1),(0,1)]\n",
    "    for (i,j) in offsets:\n",
    "            if(cells[pos.y+j,pos.x+i]==0):\n",
    "                neighbor_list.append(Position(pos.y+j,pos.x+i))\n",
    "                \n",
    "    return neighbor_list"
   ]
  },
  {
   "cell_type": "code",
   "execution_count": 25,
   "metadata": {},
   "outputs": [],
   "source": [
    "def goal(pos):\n",
    "    return cells[pos.y, pos.x]==1"
   ]
  },
  {
   "cell_type": "code",
   "execution_count": 34,
   "metadata": {},
   "outputs": [],
   "source": [
    "def cost(p1, p2):\n",
    "    return abs(p2.x-p1.x) + abs(p2.y-p1.y)"
   ]
  },
  {
   "cell_type": "code",
   "execution_count": null,
   "metadata": {},
   "outputs": [],
   "source": [
    "# def heuristic(pos):\n",
    "    "
   ]
  },
  {
   "cell_type": "code",
   "execution_count": 32,
   "metadata": {},
   "outputs": [
    {
     "name": "stdout",
     "output_type": "stream",
     "text": [
      "7 6\n",
      "9 6\n",
      "8 7\n"
     ]
    }
   ],
   "source": [
    "for p in neighbors(Position(6,8)):\n",
    "    print(p.x,p.y)"
   ]
  },
  {
   "cell_type": "code",
   "execution_count": 37,
   "metadata": {},
   "outputs": [
    {
     "name": "stdout",
     "output_type": "stream",
     "text": [
      "True\n"
     ]
    }
   ],
   "source": [
    "print(goal(Position(10,4)))"
   ]
  },
  {
   "cell_type": "code",
   "execution_count": 36,
   "metadata": {},
   "outputs": [
    {
     "name": "stdout",
     "output_type": "stream",
     "text": [
      "7\n"
     ]
    }
   ],
   "source": [
    "p1 = Position(5,4)\n",
    "p2 = Position(3,9)\n",
    "\n",
    "print(cost(p1,p2))"
   ]
  }
 ],
 "metadata": {
  "kernelspec": {
   "display_name": "Python 3",
   "language": "python",
   "name": "python3"
  },
  "language_info": {
   "codemirror_mode": {
    "name": "ipython",
    "version": 3
   },
   "file_extension": ".py",
   "mimetype": "text/x-python",
   "name": "python",
   "nbconvert_exporter": "python",
   "pygments_lexer": "ipython3",
   "version": "3.7.9"
  }
 },
 "nbformat": 4,
 "nbformat_minor": 4
}
