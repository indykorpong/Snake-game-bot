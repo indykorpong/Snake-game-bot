{
 "cells": [
  {
   "cell_type": "code",
   "execution_count": 1,
   "metadata": {},
   "outputs": [],
   "source": [
    "import cv2\n",
    "import os\n",
    "import numpy as np"
   ]
  },
  {
   "cell_type": "code",
   "execution_count": 2,
   "metadata": {},
   "outputs": [],
   "source": [
    "image_no = 3\n",
    "bg = cv2.imread(\"raw_images/bg.png\")\n",
    "im1 = cv2.imread(f\"raw_images/{image_no}.png\")\n",
    "\n",
    "(left, upper, right, lower) = (503, 263, 1436, 823)\n",
    "bg = bg[upper:lower, left:right]\n",
    "im1 = im1[upper:lower, left:right]\n",
    "\n",
    "bg_gray = cv2.cvtColor(bg, cv2.COLOR_BGR2GRAY)\n",
    "im1_gray = cv2.cvtColor(im1, cv2.COLOR_BGR2GRAY)"
   ]
  },
  {
   "cell_type": "code",
   "execution_count": 3,
   "metadata": {},
   "outputs": [],
   "source": [
    "cv2.imshow('bg',bg)\n",
    "cv2.imshow('1',im1)\n",
    "cv2.waitKey(0)\n",
    "cv2.destroyAllWindows()"
   ]
  },
  {
   "cell_type": "code",
   "execution_count": 4,
   "metadata": {},
   "outputs": [],
   "source": [
    "im_sub = cv2.subtract(im1, bg)\n",
    "im_sub = cv2.cvtColor(im_sub, cv2.COLOR_BGR2GRAY)"
   ]
  },
  {
   "cell_type": "code",
   "execution_count": 5,
   "metadata": {},
   "outputs": [],
   "source": [
    "ret,thresh1 = cv2.threshold(im_sub,5,255,cv2.THRESH_BINARY)\n",
    "\n",
    "kernel = np.ones((3,3),np.uint8)\n",
    "dilation = cv2.dilate(thresh1,kernel,iterations = 1)\n",
    "erosion = cv2.erode(dilation,kernel,iterations = 1)"
   ]
  },
  {
   "cell_type": "code",
   "execution_count": 23,
   "metadata": {},
   "outputs": [],
   "source": [
    "cv2.imshow('bg_sub', im_sub)\n",
    "cv2.imshow('thresh1', thresh1)\n",
    "cv2.imshow('erosion', erosion)\n",
    "cv2.waitKey(0)\n",
    "cv2.destroyAllWindows()"
   ]
  },
  {
   "cell_type": "code",
   "execution_count": 6,
   "metadata": {},
   "outputs": [],
   "source": [
    "retval,labels = cv2.connectedComponents(erosion)"
   ]
  },
  {
   "cell_type": "code",
   "execution_count": 7,
   "metadata": {},
   "outputs": [],
   "source": [
    "for i in range(1, retval):\n",
    "    mask = np.array(labels, dtype=np.uint8)\n",
    "    mask[labels == i] = 255\n",
    "    \n",
    "    dir_path = f\"proc_images/im_{image_no}\"\n",
    "    if(not os.path.exists(dir_path)):\n",
    "        os.mkdir(dir_path)\n",
    "    \n",
    "    filename = f\"proc_images/im_{image_no}/item_{i}.png\"\n",
    "    cv2.imwrite(filename, mask)\n",
    "    \n",
    "    cv2.imshow('component', mask)\n",
    "    cv2.waitKey(0)\n",
    "cv2.destroyAllWindows()"
   ]
  },
  {
   "cell_type": "code",
   "execution_count": 13,
   "metadata": {},
   "outputs": [],
   "source": [
    "def image_segmentation(image_no):\n",
    "    bg = cv2.imread(\"raw_images/bg.png\")\n",
    "    im1 = cv2.imread(f\"raw_images/{image_no}.png\")\n",
    "\n",
    "    (left, upper, right, lower) = (503, 263, 1436, 823)\n",
    "    bg = bg[upper:lower, left:right]\n",
    "    im1 = im1[upper:lower, left:right]\n",
    "\n",
    "    bg_gray = cv2.cvtColor(bg, cv2.COLOR_BGR2GRAY)\n",
    "    im1_gray = cv2.cvtColor(im1, cv2.COLOR_BGR2GRAY)\n",
    "\n",
    "    im_sub = cv2.subtract(im1, bg)\n",
    "    im_sub = cv2.cvtColor(im_sub, cv2.COLOR_BGR2GRAY)\n",
    "\n",
    "    ret,thresh1 = cv2.threshold(im_sub,5,255,cv2.THRESH_BINARY)\n",
    "\n",
    "    kernel = np.ones((3,3),np.uint8)\n",
    "    dilation = cv2.dilate(thresh1,kernel,iterations = 2)\n",
    "    erosion = cv2.erode(dilation,kernel,iterations = 2)\n",
    "    \n",
    "#     cv2.imshow('erosion', erosion)\n",
    "#     cv2.waitKey(0)\n",
    "#     cv2.destroyAllWindows()\n",
    "    \n",
    "    retval,labels = cv2.connectedComponents(erosion)\n",
    "    \n",
    "    for i in range(1, retval):\n",
    "        mask = np.array(labels, dtype=np.uint8)\n",
    "        mask[labels == i] = 255\n",
    "\n",
    "        dir_path = f\"proc_images/im_{image_no}\"\n",
    "        if(not os.path.exists(dir_path)):\n",
    "            os.mkdir(dir_path)\n",
    "\n",
    "        filename = f\"proc_images/im_{image_no}/item_{i}.png\"\n",
    "        cv2.imwrite(filename, mask)"
   ]
  },
  {
   "cell_type": "code",
   "execution_count": 14,
   "metadata": {},
   "outputs": [],
   "source": [
    "for i in range(1, 11):\n",
    "    image_segmentation(i)"
   ]
  },
  {
   "cell_type": "code",
   "execution_count": 11,
   "metadata": {},
   "outputs": [],
   "source": [
    "image_segmentation(4)"
   ]
  },
  {
   "cell_type": "code",
   "execution_count": null,
   "metadata": {},
   "outputs": [],
   "source": []
  }
 ],
 "metadata": {
  "kernelspec": {
   "display_name": "Python 3",
   "language": "python",
   "name": "python3"
  },
  "language_info": {
   "codemirror_mode": {
    "name": "ipython",
    "version": 3
   },
   "file_extension": ".py",
   "mimetype": "text/x-python",
   "name": "python",
   "nbconvert_exporter": "python",
   "pygments_lexer": "ipython3",
   "version": "3.7.6"
  }
 },
 "nbformat": 4,
 "nbformat_minor": 4
}
